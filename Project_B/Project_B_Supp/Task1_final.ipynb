{
  "nbformat": 4,
  "nbformat_minor": 0,
  "metadata": {
    "colab": {
      "name": "Task1_final.ipynb",
      "provenance": [],
      "collapsed_sections": [
        "NQL1lJdaRPT1",
        "sj1N38fnRTNB"
      ]
    },
    "kernelspec": {
      "name": "python3",
      "display_name": "Python 3"
    },
    "language_info": {
      "name": "python"
    },
    "accelerator": "GPU",
    "widgets": {
      "application/vnd.jupyter.widget-state+json": {
        "a9cf778384f44c61bd37c230eee303f7": {
          "model_module": "@jupyter-widgets/controls",
          "model_name": "HBoxModel",
          "model_module_version": "1.5.0",
          "state": {
            "_dom_classes": [],
            "_model_module": "@jupyter-widgets/controls",
            "_model_module_version": "1.5.0",
            "_model_name": "HBoxModel",
            "_view_count": null,
            "_view_module": "@jupyter-widgets/controls",
            "_view_module_version": "1.5.0",
            "_view_name": "HBoxView",
            "box_style": "",
            "children": [
              "IPY_MODEL_28d8422d3db94b539623e82df7a65d98",
              "IPY_MODEL_9102017eeebf40908475858917f87f39",
              "IPY_MODEL_b4b687a267c24fc19aa57723a43419b7"
            ],
            "layout": "IPY_MODEL_89e953d9e67943e3a389931575222701"
          }
        },
        "28d8422d3db94b539623e82df7a65d98": {
          "model_module": "@jupyter-widgets/controls",
          "model_name": "HTMLModel",
          "model_module_version": "1.5.0",
          "state": {
            "_dom_classes": [],
            "_model_module": "@jupyter-widgets/controls",
            "_model_module_version": "1.5.0",
            "_model_name": "HTMLModel",
            "_view_count": null,
            "_view_module": "@jupyter-widgets/controls",
            "_view_module_version": "1.5.0",
            "_view_name": "HTMLView",
            "description": "",
            "description_tooltip": null,
            "layout": "IPY_MODEL_9f69e00b5a1a4f5380af0779879c46dc",
            "placeholder": "​",
            "style": "IPY_MODEL_8aacc278c4b24ecf80ce5098a04f633a",
            "value": "Dl Completed...: 100%"
          }
        },
        "9102017eeebf40908475858917f87f39": {
          "model_module": "@jupyter-widgets/controls",
          "model_name": "FloatProgressModel",
          "model_module_version": "1.5.0",
          "state": {
            "_dom_classes": [],
            "_model_module": "@jupyter-widgets/controls",
            "_model_module_version": "1.5.0",
            "_model_name": "FloatProgressModel",
            "_view_count": null,
            "_view_module": "@jupyter-widgets/controls",
            "_view_module_version": "1.5.0",
            "_view_name": "ProgressView",
            "bar_style": "success",
            "description": "",
            "description_tooltip": null,
            "layout": "IPY_MODEL_ae487c4ded9747688ae420842c1be5fa",
            "max": 4,
            "min": 0,
            "orientation": "horizontal",
            "style": "IPY_MODEL_32b576fdaeb849449a856d1c1be30291",
            "value": 4
          }
        },
        "b4b687a267c24fc19aa57723a43419b7": {
          "model_module": "@jupyter-widgets/controls",
          "model_name": "HTMLModel",
          "model_module_version": "1.5.0",
          "state": {
            "_dom_classes": [],
            "_model_module": "@jupyter-widgets/controls",
            "_model_module_version": "1.5.0",
            "_model_name": "HTMLModel",
            "_view_count": null,
            "_view_module": "@jupyter-widgets/controls",
            "_view_module_version": "1.5.0",
            "_view_name": "HTMLView",
            "description": "",
            "description_tooltip": null,
            "layout": "IPY_MODEL_1fda96585676485b87ff16a14376df59",
            "placeholder": "​",
            "style": "IPY_MODEL_13b5a6e8b5c348abaf8b677b03aeff8d",
            "value": " 4/4 [00:01&lt;00:00,  2.57 file/s]"
          }
        },
        "89e953d9e67943e3a389931575222701": {
          "model_module": "@jupyter-widgets/base",
          "model_name": "LayoutModel",
          "model_module_version": "1.2.0",
          "state": {
            "_model_module": "@jupyter-widgets/base",
            "_model_module_version": "1.2.0",
            "_model_name": "LayoutModel",
            "_view_count": null,
            "_view_module": "@jupyter-widgets/base",
            "_view_module_version": "1.2.0",
            "_view_name": "LayoutView",
            "align_content": null,
            "align_items": null,
            "align_self": null,
            "border": null,
            "bottom": null,
            "display": null,
            "flex": null,
            "flex_flow": null,
            "grid_area": null,
            "grid_auto_columns": null,
            "grid_auto_flow": null,
            "grid_auto_rows": null,
            "grid_column": null,
            "grid_gap": null,
            "grid_row": null,
            "grid_template_areas": null,
            "grid_template_columns": null,
            "grid_template_rows": null,
            "height": null,
            "justify_content": null,
            "justify_items": null,
            "left": null,
            "margin": null,
            "max_height": null,
            "max_width": null,
            "min_height": null,
            "min_width": null,
            "object_fit": null,
            "object_position": null,
            "order": null,
            "overflow": null,
            "overflow_x": null,
            "overflow_y": null,
            "padding": null,
            "right": null,
            "top": null,
            "visibility": null,
            "width": null
          }
        },
        "9f69e00b5a1a4f5380af0779879c46dc": {
          "model_module": "@jupyter-widgets/base",
          "model_name": "LayoutModel",
          "model_module_version": "1.2.0",
          "state": {
            "_model_module": "@jupyter-widgets/base",
            "_model_module_version": "1.2.0",
            "_model_name": "LayoutModel",
            "_view_count": null,
            "_view_module": "@jupyter-widgets/base",
            "_view_module_version": "1.2.0",
            "_view_name": "LayoutView",
            "align_content": null,
            "align_items": null,
            "align_self": null,
            "border": null,
            "bottom": null,
            "display": null,
            "flex": null,
            "flex_flow": null,
            "grid_area": null,
            "grid_auto_columns": null,
            "grid_auto_flow": null,
            "grid_auto_rows": null,
            "grid_column": null,
            "grid_gap": null,
            "grid_row": null,
            "grid_template_areas": null,
            "grid_template_columns": null,
            "grid_template_rows": null,
            "height": null,
            "justify_content": null,
            "justify_items": null,
            "left": null,
            "margin": null,
            "max_height": null,
            "max_width": null,
            "min_height": null,
            "min_width": null,
            "object_fit": null,
            "object_position": null,
            "order": null,
            "overflow": null,
            "overflow_x": null,
            "overflow_y": null,
            "padding": null,
            "right": null,
            "top": null,
            "visibility": null,
            "width": null
          }
        },
        "8aacc278c4b24ecf80ce5098a04f633a": {
          "model_module": "@jupyter-widgets/controls",
          "model_name": "DescriptionStyleModel",
          "model_module_version": "1.5.0",
          "state": {
            "_model_module": "@jupyter-widgets/controls",
            "_model_module_version": "1.5.0",
            "_model_name": "DescriptionStyleModel",
            "_view_count": null,
            "_view_module": "@jupyter-widgets/base",
            "_view_module_version": "1.2.0",
            "_view_name": "StyleView",
            "description_width": ""
          }
        },
        "ae487c4ded9747688ae420842c1be5fa": {
          "model_module": "@jupyter-widgets/base",
          "model_name": "LayoutModel",
          "model_module_version": "1.2.0",
          "state": {
            "_model_module": "@jupyter-widgets/base",
            "_model_module_version": "1.2.0",
            "_model_name": "LayoutModel",
            "_view_count": null,
            "_view_module": "@jupyter-widgets/base",
            "_view_module_version": "1.2.0",
            "_view_name": "LayoutView",
            "align_content": null,
            "align_items": null,
            "align_self": null,
            "border": null,
            "bottom": null,
            "display": null,
            "flex": null,
            "flex_flow": null,
            "grid_area": null,
            "grid_auto_columns": null,
            "grid_auto_flow": null,
            "grid_auto_rows": null,
            "grid_column": null,
            "grid_gap": null,
            "grid_row": null,
            "grid_template_areas": null,
            "grid_template_columns": null,
            "grid_template_rows": null,
            "height": null,
            "justify_content": null,
            "justify_items": null,
            "left": null,
            "margin": null,
            "max_height": null,
            "max_width": null,
            "min_height": null,
            "min_width": null,
            "object_fit": null,
            "object_position": null,
            "order": null,
            "overflow": null,
            "overflow_x": null,
            "overflow_y": null,
            "padding": null,
            "right": null,
            "top": null,
            "visibility": null,
            "width": null
          }
        },
        "32b576fdaeb849449a856d1c1be30291": {
          "model_module": "@jupyter-widgets/controls",
          "model_name": "ProgressStyleModel",
          "model_module_version": "1.5.0",
          "state": {
            "_model_module": "@jupyter-widgets/controls",
            "_model_module_version": "1.5.0",
            "_model_name": "ProgressStyleModel",
            "_view_count": null,
            "_view_module": "@jupyter-widgets/base",
            "_view_module_version": "1.2.0",
            "_view_name": "StyleView",
            "bar_color": null,
            "description_width": ""
          }
        },
        "1fda96585676485b87ff16a14376df59": {
          "model_module": "@jupyter-widgets/base",
          "model_name": "LayoutModel",
          "model_module_version": "1.2.0",
          "state": {
            "_model_module": "@jupyter-widgets/base",
            "_model_module_version": "1.2.0",
            "_model_name": "LayoutModel",
            "_view_count": null,
            "_view_module": "@jupyter-widgets/base",
            "_view_module_version": "1.2.0",
            "_view_name": "LayoutView",
            "align_content": null,
            "align_items": null,
            "align_self": null,
            "border": null,
            "bottom": null,
            "display": null,
            "flex": null,
            "flex_flow": null,
            "grid_area": null,
            "grid_auto_columns": null,
            "grid_auto_flow": null,
            "grid_auto_rows": null,
            "grid_column": null,
            "grid_gap": null,
            "grid_row": null,
            "grid_template_areas": null,
            "grid_template_columns": null,
            "grid_template_rows": null,
            "height": null,
            "justify_content": null,
            "justify_items": null,
            "left": null,
            "margin": null,
            "max_height": null,
            "max_width": null,
            "min_height": null,
            "min_width": null,
            "object_fit": null,
            "object_position": null,
            "order": null,
            "overflow": null,
            "overflow_x": null,
            "overflow_y": null,
            "padding": null,
            "right": null,
            "top": null,
            "visibility": null,
            "width": null
          }
        },
        "13b5a6e8b5c348abaf8b677b03aeff8d": {
          "model_module": "@jupyter-widgets/controls",
          "model_name": "DescriptionStyleModel",
          "model_module_version": "1.5.0",
          "state": {
            "_model_module": "@jupyter-widgets/controls",
            "_model_module_version": "1.5.0",
            "_model_name": "DescriptionStyleModel",
            "_view_count": null,
            "_view_module": "@jupyter-widgets/base",
            "_view_module_version": "1.2.0",
            "_view_name": "StyleView",
            "description_width": ""
          }
        }
      }
    }
  },
  "cells": [
    {
      "cell_type": "markdown",
      "source": [
        "# Project B: Knowledge Distillation for Building Lightweight Deep Learning Models in Visual Classification Tasks"
      ],
      "metadata": {
        "id": "6WYMfvCNPwpm"
      }
    },
    {
      "cell_type": "code",
      "source": [
        "from google.colab import drive\n",
        "drive.mount('/content/drive')"
      ],
      "metadata": {
        "colab": {
          "base_uri": "https://localhost:8080/"
        },
        "id": "Q-K0Si92wxZ_",
        "outputId": "f04c1576-1c6e-40d9-9f0f-b68dbb92fb7d"
      },
      "execution_count": 1,
      "outputs": [
        {
          "output_type": "stream",
          "name": "stdout",
          "text": [
            "Mounted at /content/drive\n"
          ]
        }
      ]
    },
    {
      "cell_type": "code",
      "source": [
        "import matplotlib.pyplot as plt\n",
        "import tensorflow.compat.v2 as tf\n",
        "import tensorflow_datasets as tfds\n",
        "from typing import Union\n",
        "from tensorflow.keras.layers import Conv2D, Flatten, MaxPooling2D, Dropout, Dense\n",
        "import numpy as np\n",
        "from tensorflow import keras\n",
        "import keras.backend as K\n",
        "from scipy.ndimage.interpolation import zoom\n",
        "from PIL import Image, ImageDraw\n",
        "tf.enable_v2_behavior()\n",
        "\n",
        "builder = tfds.builder('mnist')\n",
        "BATCH_SIZE = 256\n",
        "NUM_EPOCHS = 12\n",
        "NUM_CLASSES = 10  # 10 total classes."
      ],
      "metadata": {
        "id": "vA8ppgB2P0aJ"
      },
      "execution_count": 2,
      "outputs": []
    },
    {
      "cell_type": "markdown",
      "source": [
        "# Data loading"
      ],
      "metadata": {
        "id": "H2EFLQROP2R7"
      }
    },
    {
      "cell_type": "code",
      "source": [
        "# Load train and test splits.\n",
        "def preprocess(x):\n",
        "  image = tf.image.convert_image_dtype(x['image'], tf.float32)\n",
        "  subclass_labels = tf.one_hot(x['label'], builder.info.features['label'].num_classes)\n",
        "  return image, subclass_labels\n",
        "\n",
        "\n",
        "mnist_train = tfds.load('mnist', split='train', shuffle_files=False).cache()\n",
        "mnist_train = mnist_train.map(preprocess)\n",
        "mnist_train = mnist_train.shuffle(builder.info.splits['train'].num_examples)\n",
        "mnist_train = mnist_train.batch(BATCH_SIZE, drop_remainder=True)\n",
        "\n",
        "mnist_test = tfds.load('mnist', split='test').cache()\n",
        "mnist_test = mnist_test.map(preprocess).batch(BATCH_SIZE)"
      ],
      "metadata": {
        "id": "ynByMG_UP4A4",
        "colab": {
          "base_uri": "https://localhost:8080/",
          "height": 208,
          "referenced_widgets": [
            "a9cf778384f44c61bd37c230eee303f7",
            "28d8422d3db94b539623e82df7a65d98",
            "9102017eeebf40908475858917f87f39",
            "b4b687a267c24fc19aa57723a43419b7",
            "89e953d9e67943e3a389931575222701",
            "9f69e00b5a1a4f5380af0779879c46dc",
            "8aacc278c4b24ecf80ce5098a04f633a",
            "ae487c4ded9747688ae420842c1be5fa",
            "32b576fdaeb849449a856d1c1be30291",
            "1fda96585676485b87ff16a14376df59",
            "13b5a6e8b5c348abaf8b677b03aeff8d"
          ]
        },
        "outputId": "a9c13b7a-51ba-4b4c-8c2e-d7d3a3516885"
      },
      "execution_count": 3,
      "outputs": [
        {
          "output_type": "stream",
          "name": "stdout",
          "text": [
            "\u001b[1mDownloading and preparing dataset mnist/3.0.1 (download: 11.06 MiB, generated: 21.00 MiB, total: 32.06 MiB) to /root/tensorflow_datasets/mnist/3.0.1...\u001b[0m\n"
          ]
        },
        {
          "output_type": "stream",
          "name": "stderr",
          "text": [
            "WARNING:absl:Dataset mnist is hosted on GCS. It will automatically be downloaded to your\n",
            "local data directory. If you'd instead prefer to read directly from our public\n",
            "GCS bucket (recommended if you're running on GCP), you can instead pass\n",
            "`try_gcs=True` to `tfds.load` or set `data_dir=gs://tfds-data/datasets`.\n",
            "\n"
          ]
        },
        {
          "output_type": "display_data",
          "data": {
            "text/plain": [
              "Dl Completed...:   0%|          | 0/4 [00:00<?, ? file/s]"
            ],
            "application/vnd.jupyter.widget-view+json": {
              "version_major": 2,
              "version_minor": 0,
              "model_id": "a9cf778384f44c61bd37c230eee303f7"
            }
          },
          "metadata": {}
        },
        {
          "output_type": "stream",
          "name": "stdout",
          "text": [
            "\n",
            "\u001b[1mDataset mnist downloaded and prepared to /root/tensorflow_datasets/mnist/3.0.1. Subsequent calls will reuse this data.\u001b[0m\n"
          ]
        }
      ]
    },
    {
      "cell_type": "markdown",
      "source": [
        "# Model creation"
      ],
      "metadata": {
        "id": "kAZwfvW5P63q"
      }
    },
    {
      "cell_type": "code",
      "source": [
        "# Build CNN teacher.\n",
        "cnn_model = tf.keras.Sequential()\n",
        "cnn_model.add(Conv2D(32, (3,3), strides=1, \n",
        "       input_shape=(28, 28, 1), activation='relu'))\n",
        "cnn_model.add(MaxPooling2D(pool_size=(2,2), strides=1))\n",
        "cnn_model.add(Conv2D(64, (3,3), strides=1, activation='relu'))\n",
        "cnn_model.add(MaxPooling2D(pool_size=(2,2), strides=2))\n",
        "cnn_model.add(Flatten())\n",
        "cnn_model.add(Dropout(rate=0.5))\n",
        "cnn_model.add(Dense(128, activation='relu'))\n",
        "cnn_model.add(Dropout(rate=0.5))\n",
        "cnn_model.add(Dense(10))"
      ],
      "metadata": {
        "id": "zINgDkA7P7BP"
      },
      "execution_count": 4,
      "outputs": []
    },
    {
      "cell_type": "code",
      "source": [
        "cnn_model.summary()"
      ],
      "metadata": {
        "colab": {
          "base_uri": "https://localhost:8080/"
        },
        "id": "Z1I-EDehXpuH",
        "outputId": "9d8bf333-b473-4dd2-aa2b-f4724bdeda7a"
      },
      "execution_count": 5,
      "outputs": [
        {
          "output_type": "stream",
          "name": "stdout",
          "text": [
            "Model: \"sequential\"\n",
            "_________________________________________________________________\n",
            " Layer (type)                Output Shape              Param #   \n",
            "=================================================================\n",
            " conv2d (Conv2D)             (None, 26, 26, 32)        320       \n",
            "                                                                 \n",
            " max_pooling2d (MaxPooling2D  (None, 25, 25, 32)       0         \n",
            " )                                                               \n",
            "                                                                 \n",
            " conv2d_1 (Conv2D)           (None, 23, 23, 64)        18496     \n",
            "                                                                 \n",
            " max_pooling2d_1 (MaxPooling  (None, 11, 11, 64)       0         \n",
            " 2D)                                                             \n",
            "                                                                 \n",
            " flatten (Flatten)           (None, 7744)              0         \n",
            "                                                                 \n",
            " dropout (Dropout)           (None, 7744)              0         \n",
            "                                                                 \n",
            " dense (Dense)               (None, 128)               991360    \n",
            "                                                                 \n",
            " dropout_1 (Dropout)         (None, 128)               0         \n",
            "                                                                 \n",
            " dense_1 (Dense)             (None, 10)                1290      \n",
            "                                                                 \n",
            "=================================================================\n",
            "Total params: 1,011,466\n",
            "Trainable params: 1,011,466\n",
            "Non-trainable params: 0\n",
            "_________________________________________________________________\n"
          ]
        }
      ]
    },
    {
      "cell_type": "code",
      "source": [
        "# Build fully connected student.\n",
        "fc_model = tf.keras.Sequential()\n",
        "fc_model.add(Flatten(input_shape=(28, 28, 1)))\n",
        "fc_model.add(Dense(784, activation='relu'))\n",
        "fc_model.add(Dense(784, activation='relu'))\n",
        "fc_model.add(Dense(10))"
      ],
      "metadata": {
        "id": "pqzvz_6oXlkB"
      },
      "execution_count": 6,
      "outputs": []
    },
    {
      "cell_type": "code",
      "source": [
        "fc_model.summary()"
      ],
      "metadata": {
        "colab": {
          "base_uri": "https://localhost:8080/"
        },
        "id": "c9FZFUVWXtt1",
        "outputId": "549d206e-b153-4c40-8de2-dd87eed8f862"
      },
      "execution_count": 7,
      "outputs": [
        {
          "output_type": "stream",
          "name": "stdout",
          "text": [
            "Model: \"sequential_1\"\n",
            "_________________________________________________________________\n",
            " Layer (type)                Output Shape              Param #   \n",
            "=================================================================\n",
            " flatten_1 (Flatten)         (None, 784)               0         \n",
            "                                                                 \n",
            " dense_2 (Dense)             (None, 784)               615440    \n",
            "                                                                 \n",
            " dense_3 (Dense)             (None, 784)               615440    \n",
            "                                                                 \n",
            " dense_4 (Dense)             (None, 10)                7850      \n",
            "                                                                 \n",
            "=================================================================\n",
            "Total params: 1,238,730\n",
            "Trainable params: 1,238,730\n",
            "Non-trainable params: 0\n",
            "_________________________________________________________________\n"
          ]
        }
      ]
    },
    {
      "cell_type": "markdown",
      "source": [
        "# Teacher loss function"
      ],
      "metadata": {
        "id": "8JWGucyrQGav"
      }
    },
    {
      "cell_type": "code",
      "source": [
        "@tf.function\n",
        "def compute_teacher_loss(images, labels, ALPHA, DISTILLATION_TEMPERATURE):\n",
        "  \"\"\"Compute subclass knowledge distillation teacher loss for given images\n",
        "     and labels.\n",
        "\n",
        "  Args:\n",
        "    images: Tensor representing a batch of images.\n",
        "    labels: Tensor representing a batch of labels.\n",
        "\n",
        "  Returns:\n",
        "    Scalar loss Tensor.\n",
        "  \"\"\"\n",
        "  subclass_logits = cnn_model(images, training=True)\n",
        "\n",
        "  # Compute cross-entropy loss for subclasses.\n",
        "\n",
        "  # your code start from here for step 3\n",
        "  cross_entropy_loss_value = tf.reduce_mean(tf.nn.softmax_cross_entropy_with_logits(labels, subclass_logits))\n",
        "\n",
        "\n",
        "  return cross_entropy_loss_value"
      ],
      "metadata": {
        "id": "DhzBP6ZLQJ57"
      },
      "execution_count": 8,
      "outputs": []
    },
    {
      "cell_type": "markdown",
      "source": [
        "# Student loss function"
      ],
      "metadata": {
        "id": "JS8xkuH0QbOS"
      }
    },
    {
      "cell_type": "code",
      "source": [
        "# Hyperparameters for distillation (need to be tuned).\n",
        "#ALPHA = 0.5 # task balance between cross-entropy and distillation loss\n",
        "#DISTILLATION_TEMPERATURE = 4. #temperature hyperparameter\n",
        "\n",
        "def distillation_loss(teacher_logits: tf.Tensor, student_logits: tf.Tensor,\n",
        "                      temperature: Union[float, tf.Tensor]):\n",
        "  \"\"\"Compute distillation loss.\n",
        "\n",
        "  This function computes cross entropy between softened logits and softened\n",
        "  targets. The resulting loss is scaled by the squared temperature so that\n",
        "  the gradient magnitude remains approximately constant as the temperature is\n",
        "  changed. For reference, see Hinton et al., 2014, \"Distilling the knowledge in\n",
        "  a neural network.\"\n",
        "\n",
        "  Args:\n",
        "    teacher_logits: A Tensor of logits provided by the teacher.\n",
        "    student_logits: A Tensor of logits provided by the student, of the same\n",
        "      shape as `teacher_logits`.\n",
        "    temperature: Temperature to use for distillation.\n",
        "\n",
        "  Returns:\n",
        "    A scalar Tensor containing the distillation loss.\n",
        "  \"\"\"\n",
        " # your code start from here for step 3\n",
        "  soft_targets = tf.nn.softmax(teacher_logits/temperature)\n",
        "\n",
        "  return tf.reduce_mean(\n",
        "      tf.nn.softmax_cross_entropy_with_logits(\n",
        "          soft_targets, student_logits / temperature)) * temperature ** 2\n",
        "\n",
        "def compute_student_loss(images, labels, ALPHA, DISTILLATION_TEMPERATURE):\n",
        "  \"\"\"Compute subclass knowledge distillation student loss for given images\n",
        "     and labels.\n",
        "\n",
        "  Args:\n",
        "    images: Tensor representing a batch of images.\n",
        "    labels: Tensor representing a batch of labels.\n",
        "\n",
        "  Returns:\n",
        "    Scalar loss Tensor.\n",
        "  \"\"\"\n",
        "  student_subclass_logits = fc_model(images, training=True)\n",
        "\n",
        "  # Compute subclass distillation loss between student subclass logits and\n",
        "  # softened teacher subclass targets probabilities.\n",
        "  teacher_subclass_logits = cnn_model(images, training=False)\n",
        "  distillation_loss_value = distillation_loss(teacher_subclass_logits,student_subclass_logits,DISTILLATION_TEMPERATURE)\n",
        "\n",
        "  # Compute cross-entropy loss with hard targets.\n",
        "  cross_entropy_loss_value = tf.reduce_mean(tf.nn.softmax_cross_entropy_with_logits(labels,student_subclass_logits))\n",
        "\n",
        "  # Compute the total loss \n",
        "  total_loss = ALPHA*cross_entropy_loss_value+(1-ALPHA)*distillation_loss_value\n",
        "\n",
        "  return total_loss"
      ],
      "metadata": {
        "id": "lDKia4gPQMIr"
      },
      "execution_count": 10,
      "outputs": []
    },
    {
      "cell_type": "markdown",
      "source": [
        "# Train and evaluation"
      ],
      "metadata": {
        "id": "RJ1uyvurQ3w4"
      }
    },
    {
      "cell_type": "code",
      "source": [
        "@tf.function\n",
        "def compute_num_correct(model, images, labels):\n",
        "  \"\"\"Compute number of correctly classified images in a batch.\n",
        "\n",
        "  Args:\n",
        "    model: Instance of tf.keras.Model.\n",
        "    images: Tensor representing a batch of images.\n",
        "    labels: Tensor representing a batch of labels.\n",
        "\n",
        "  Returns:\n",
        "    Number of correctly classified images.\n",
        "  \"\"\"\n",
        "  class_logits = model(images, training=False)\n",
        "  return tf.reduce_sum(\n",
        "      tf.cast(tf.math.equal(tf.argmax(class_logits, -1), tf.argmax(labels, -1)),\n",
        "              tf.float32)), tf.argmax(class_logits, -1), tf.argmax(labels, -1)\n",
        "\n",
        "\n",
        "def train_and_evaluate(model, compute_loss_fn, ALPHA, DISTILLATION_TEMPERATURE):\n",
        "  \"\"\"Perform training and evaluation for a given model.\n",
        "\n",
        "  Args:\n",
        "    model: Instance of tf.keras.Model.\n",
        "    compute_loss_fn: A function that computes the training loss given the\n",
        "      images, and labels.\n",
        "  \"\"\"\n",
        "\n",
        "  # your code start from here for step 4\n",
        "  optimizer = tf.keras.optimizers.Adam(learning_rate=0.001)\n",
        "\n",
        "  for epoch in range(1, NUM_EPOCHS + 1):\n",
        "    # Run training.\n",
        "    print('Epoch {}: '.format(epoch), end='')\n",
        "    for images, labels in mnist_train:\n",
        "      with tf.GradientTape() as tape:\n",
        "         # your code start from here for step 4\n",
        "\n",
        "        loss_value = compute_loss_fn(images, labels, ALPHA, DISTILLATION_TEMPERATURE)\n",
        "\n",
        "      grads = tape.gradient(loss_value, model.trainable_variables)\n",
        "      optimizer.apply_gradients(zip(grads, model.trainable_variables))\n",
        "\n",
        "    # Run evaluation.\n",
        "    num_correct = 0\n",
        "    num_total = builder.info.splits['test'].num_examples\n",
        "    for images, labels in mnist_test:\n",
        "      # your code start from here for step 4\n",
        "      num_correct += compute_num_correct(model,images,labels)[0]\n",
        "    print(\"Class_accuracy: \" + '{:.2f}%'.format(\n",
        "        num_correct / num_total * 100))\n"
      ],
      "metadata": {
        "id": "EtoLbp8uQ4Vl"
      },
      "execution_count": 11,
      "outputs": []
    },
    {
      "cell_type": "markdown",
      "source": [
        "# Training models"
      ],
      "metadata": {
        "id": "NQL1lJdaRPT1"
      }
    },
    {
      "cell_type": "code",
      "source": [
        "# your code start from here for step 5 \n",
        "# Teacher Model\n",
        "train_and_evaluate(cnn_model, compute_teacher_loss, 0.5, 4)"
      ],
      "metadata": {
        "id": "-AGHbyABRPz3",
        "colab": {
          "base_uri": "https://localhost:8080/"
        },
        "outputId": "b9853430-818d-4c65-db99-9391ab769a10"
      },
      "execution_count": null,
      "outputs": [
        {
          "output_type": "stream",
          "name": "stdout",
          "text": [
            "Epoch 1: Class_accuracy: 97.95%\n",
            "Epoch 2: Class_accuracy: 98.66%\n",
            "Epoch 3: Class_accuracy: 98.86%\n",
            "Epoch 4: Class_accuracy: 99.00%\n",
            "Epoch 5: Class_accuracy: 99.16%\n",
            "Epoch 6: Class_accuracy: 99.22%\n",
            "Epoch 7: Class_accuracy: 99.06%\n",
            "Epoch 8: Class_accuracy: 99.23%\n",
            "Epoch 9: Class_accuracy: 99.27%\n",
            "Epoch 10: Class_accuracy: 99.35%\n",
            "Epoch 11: Class_accuracy: 99.31%\n",
            "Epoch 12: Class_accuracy: 99.27%\n"
          ]
        }
      ]
    },
    {
      "cell_type": "code",
      "source": [
        "cnn_model.save(\"Teacher_Model.h5\")\n",
        "cnn_model.save_weights(\"Teacher_Weights\")"
      ],
      "metadata": {
        "colab": {
          "base_uri": "https://localhost:8080/"
        },
        "id": "EoE3qC7QlrYK",
        "outputId": "10d8332d-85f0-4b55-97bc-48cea482cfd5"
      },
      "execution_count": null,
      "outputs": [
        {
          "output_type": "stream",
          "name": "stdout",
          "text": [
            "WARNING:tensorflow:Compiled the loaded model, but the compiled metrics have yet to be built. `model.compile_metrics` will be empty until you train or evaluate the model.\n"
          ]
        },
        {
          "output_type": "stream",
          "name": "stderr",
          "text": [
            "WARNING:tensorflow:Compiled the loaded model, but the compiled metrics have yet to be built. `model.compile_metrics` will be empty until you train or evaluate the model.\n"
          ]
        }
      ]
    },
    {
      "cell_type": "code",
      "source": [
        "# Student Model: ALPHA=0.5, DISTILLATION_TEMPERATURE=4\n",
        "train_and_evaluate(fc_model, compute_student_loss, 0.5, 4)"
      ],
      "metadata": {
        "colab": {
          "base_uri": "https://localhost:8080/"
        },
        "id": "fp1piDfrdSRB",
        "outputId": "2ca60185-23e6-40e4-eed8-4646a5dd8d9c"
      },
      "execution_count": null,
      "outputs": [
        {
          "output_type": "stream",
          "name": "stdout",
          "text": [
            "Epoch 1: Class_accuracy: 96.68%\n",
            "Epoch 2: Class_accuracy: 98.13%\n",
            "Epoch 3: Class_accuracy: 98.41%\n",
            "Epoch 4: Class_accuracy: 98.56%\n",
            "Epoch 5: Class_accuracy: 98.62%\n",
            "Epoch 6: Class_accuracy: 98.75%\n",
            "Epoch 7: Class_accuracy: 98.71%\n",
            "Epoch 8: Class_accuracy: 98.80%\n",
            "Epoch 9: Class_accuracy: 98.78%\n",
            "Epoch 10: Class_accuracy: 98.76%\n",
            "Epoch 11: Class_accuracy: 98.78%\n",
            "Epoch 12: Class_accuracy: 98.77%\n"
          ]
        }
      ]
    },
    {
      "cell_type": "code",
      "source": [
        "fc_model.save(\"Student_Model_0.5_4.h5\")\n",
        "fc_model.save_weights(\"Student_Weights_0.5_4\")"
      ],
      "metadata": {
        "colab": {
          "base_uri": "https://localhost:8080/"
        },
        "id": "CtSjXtyQm9CZ",
        "outputId": "1d2d1b31-95f9-46b1-e8c1-93688cd06e25"
      },
      "execution_count": null,
      "outputs": [
        {
          "output_type": "stream",
          "name": "stdout",
          "text": [
            "WARNING:tensorflow:Compiled the loaded model, but the compiled metrics have yet to be built. `model.compile_metrics` will be empty until you train or evaluate the model.\n"
          ]
        },
        {
          "output_type": "stream",
          "name": "stderr",
          "text": [
            "WARNING:tensorflow:Compiled the loaded model, but the compiled metrics have yet to be built. `model.compile_metrics` will be empty until you train or evaluate the model.\n"
          ]
        }
      ]
    },
    {
      "cell_type": "markdown",
      "source": [
        "## Tune Alpha\n"
      ],
      "metadata": {
        "id": "srhAmsFvhGRj"
      }
    },
    {
      "cell_type": "code",
      "source": [
        "# Student Model: ALPHA=0.25, DISTILLATION_TEMPERATURE=4\n",
        "train_and_evaluate(fc_model, compute_student_loss, 0.25, 4)"
      ],
      "metadata": {
        "colab": {
          "base_uri": "https://localhost:8080/"
        },
        "id": "JG0Tq_c4gc0x",
        "outputId": "235c745f-6d00-4d7f-f077-e4fb67a34ecc"
      },
      "execution_count": null,
      "outputs": [
        {
          "output_type": "stream",
          "name": "stdout",
          "text": [
            "Epoch 1: Class_accuracy: 98.80%\n",
            "Epoch 2: Class_accuracy: 98.81%\n",
            "Epoch 3: Class_accuracy: 98.81%\n",
            "Epoch 4: Class_accuracy: 98.87%\n",
            "Epoch 5: Class_accuracy: 98.89%\n",
            "Epoch 6: Class_accuracy: 98.93%\n",
            "Epoch 7: Class_accuracy: 98.80%\n",
            "Epoch 8: Class_accuracy: 98.93%\n",
            "Epoch 9: Class_accuracy: 98.92%\n",
            "Epoch 10: Class_accuracy: 98.90%\n",
            "Epoch 11: Class_accuracy: 98.88%\n",
            "Epoch 12: Class_accuracy: 98.93%\n"
          ]
        }
      ]
    },
    {
      "cell_type": "code",
      "source": [
        "fc_model.save(\"Student_Model_0.25_4.h5\")\n",
        "fc_model.save_weights(\"Student_Weights_0.25_4\")"
      ],
      "metadata": {
        "colab": {
          "base_uri": "https://localhost:8080/"
        },
        "id": "qeECJ0GnrzKc",
        "outputId": "ef95d53b-8575-41b9-92dc-b526e0f9e78c"
      },
      "execution_count": null,
      "outputs": [
        {
          "output_type": "stream",
          "name": "stdout",
          "text": [
            "WARNING:tensorflow:Compiled the loaded model, but the compiled metrics have yet to be built. `model.compile_metrics` will be empty until you train or evaluate the model.\n"
          ]
        },
        {
          "output_type": "stream",
          "name": "stderr",
          "text": [
            "WARNING:tensorflow:Compiled the loaded model, but the compiled metrics have yet to be built. `model.compile_metrics` will be empty until you train or evaluate the model.\n"
          ]
        }
      ]
    },
    {
      "cell_type": "markdown",
      "source": [
        "## Tune Temperature"
      ],
      "metadata": {
        "id": "SnypZ0KrhSZM"
      }
    },
    {
      "cell_type": "code",
      "source": [
        "# Student Model: ALPHA=0.25, DISTILLATION_TEMPERATURE=2\n",
        "train_and_evaluate(fc_model, compute_student_loss, 0.25, 2)"
      ],
      "metadata": {
        "colab": {
          "base_uri": "https://localhost:8080/"
        },
        "id": "4gfvwRdpf8dZ",
        "outputId": "88411b74-5cef-45e7-af2f-14bcc10dc08c"
      },
      "execution_count": null,
      "outputs": [
        {
          "output_type": "stream",
          "name": "stdout",
          "text": [
            "Epoch 1: Class_accuracy: 97.38%\n",
            "Epoch 2: Class_accuracy: 97.93%\n",
            "Epoch 3: Class_accuracy: 98.31%\n",
            "Epoch 4: Class_accuracy: 98.43%\n",
            "Epoch 5: Class_accuracy: 98.51%\n",
            "Epoch 6: Class_accuracy: 98.47%\n",
            "Epoch 7: Class_accuracy: 98.65%\n",
            "Epoch 8: Class_accuracy: 98.54%\n",
            "Epoch 9: Class_accuracy: 98.59%\n",
            "Epoch 10: Class_accuracy: 98.66%\n",
            "Epoch 11: Class_accuracy: 98.66%\n",
            "Epoch 12: Class_accuracy: 98.69%\n"
          ]
        }
      ]
    },
    {
      "cell_type": "code",
      "source": [
        "fc_model.save(\"Student_Model_0.25_2.h5\")\n",
        "fc_model.save_weights(\"Student_Weights_0.25_2\")"
      ],
      "metadata": {
        "colab": {
          "base_uri": "https://localhost:8080/"
        },
        "id": "8xVLba1gr2nU",
        "outputId": "3dd10c93-892d-471f-c559-115a436bcfd5"
      },
      "execution_count": null,
      "outputs": [
        {
          "output_type": "stream",
          "name": "stdout",
          "text": [
            "WARNING:tensorflow:Compiled the loaded model, but the compiled metrics have yet to be built. `model.compile_metrics` will be empty until you train or evaluate the model.\n"
          ]
        },
        {
          "output_type": "stream",
          "name": "stderr",
          "text": [
            "WARNING:tensorflow:Compiled the loaded model, but the compiled metrics have yet to be built. `model.compile_metrics` will be empty until you train or evaluate the model.\n"
          ]
        }
      ]
    },
    {
      "cell_type": "code",
      "source": [
        "# Student Model: ALPHA=0.25, DISTILLATION_TEMPERATURE=6\n",
        "train_and_evaluate(fc_model, compute_student_loss, 0.25, 6)"
      ],
      "metadata": {
        "colab": {
          "base_uri": "https://localhost:8080/"
        },
        "id": "vq_icEFGgEV8",
        "outputId": "a03701e6-ebaa-41fc-d6e2-148830e81e65"
      },
      "execution_count": null,
      "outputs": [
        {
          "output_type": "stream",
          "name": "stdout",
          "text": [
            "Epoch 1: Class_accuracy: 98.60%\n",
            "Epoch 2: Class_accuracy: 98.57%\n",
            "Epoch 3: Class_accuracy: 98.59%\n",
            "Epoch 4: Class_accuracy: 98.45%\n",
            "Epoch 5: Class_accuracy: 98.57%\n",
            "Epoch 6: Class_accuracy: 98.59%\n",
            "Epoch 7: Class_accuracy: 98.59%\n",
            "Epoch 8: Class_accuracy: 98.66%\n",
            "Epoch 9: Class_accuracy: 98.67%\n",
            "Epoch 10: Class_accuracy: 98.72%\n",
            "Epoch 11: Class_accuracy: 98.66%\n",
            "Epoch 12: Class_accuracy: 98.66%\n"
          ]
        }
      ]
    },
    {
      "cell_type": "code",
      "source": [
        "fc_model.save(\"Student_Model_0.25_6.h5\")\n",
        "fc_model.save_weights(\"Student_Weights_0.25_6\")"
      ],
      "metadata": {
        "colab": {
          "base_uri": "https://localhost:8080/"
        },
        "id": "GDfb-a8xr67O",
        "outputId": "5623f5b2-b184-4bed-b40b-640bbc8d0ff1"
      },
      "execution_count": null,
      "outputs": [
        {
          "output_type": "stream",
          "name": "stdout",
          "text": [
            "WARNING:tensorflow:Compiled the loaded model, but the compiled metrics have yet to be built. `model.compile_metrics` will be empty until you train or evaluate the model.\n"
          ]
        },
        {
          "output_type": "stream",
          "name": "stderr",
          "text": [
            "WARNING:tensorflow:Compiled the loaded model, but the compiled metrics have yet to be built. `model.compile_metrics` will be empty until you train or evaluate the model.\n"
          ]
        }
      ]
    },
    {
      "cell_type": "markdown",
      "source": [
        "# Test accuracy vs. tempreture curve"
      ],
      "metadata": {
        "id": "sj1N38fnRTNB"
      }
    },
    {
      "cell_type": "code",
      "source": [
        "# your code start from here for step 6 \n",
        "T = [1,2,4,16,32,64]\n",
        "for t in T:\n",
        "  print(\"Temperature is {}\".format(t))\n",
        "  train_and_evaluate(fc_model, compute_student_loss, ALPHA=0.5, DISTILLATION_TEMPERATURE=t)"
      ],
      "metadata": {
        "colab": {
          "base_uri": "https://localhost:8080/"
        },
        "id": "eS7FFhVZlgib",
        "outputId": "19720c1b-b860-4f34-f003-b16e355ba943"
      },
      "execution_count": null,
      "outputs": [
        {
          "output_type": "stream",
          "name": "stdout",
          "text": [
            "Temperature is 1\n",
            "Epoch 1: Class_accuracy: 98.59%\n",
            "Epoch 2: Class_accuracy: 98.51%\n",
            "Epoch 3: Class_accuracy: 98.56%\n",
            "Epoch 4: Class_accuracy: 98.41%\n",
            "Epoch 5: Class_accuracy: 98.52%\n",
            "Epoch 6: Class_accuracy: 98.52%\n",
            "Epoch 7: Class_accuracy: 98.61%\n",
            "Epoch 8: Class_accuracy: 98.61%\n",
            "Epoch 9: Class_accuracy: 98.54%\n",
            "Epoch 10: Class_accuracy: 98.50%\n",
            "Epoch 11: Class_accuracy: 98.22%\n",
            "Epoch 12: Class_accuracy: 98.45%\n",
            "Temperature is 2\n",
            "Epoch 1: Class_accuracy: 98.49%\n",
            "Epoch 2: Class_accuracy: 98.51%\n",
            "Epoch 3: Class_accuracy: 98.49%\n",
            "Epoch 4: Class_accuracy: 98.51%\n",
            "Epoch 5: Class_accuracy: 98.56%\n",
            "Epoch 6: Class_accuracy: 98.55%\n",
            "Epoch 7: Class_accuracy: 98.56%\n",
            "Epoch 8: Class_accuracy: 98.58%\n",
            "Epoch 9: Class_accuracy: 98.62%\n",
            "Epoch 10: Class_accuracy: 98.57%\n",
            "Epoch 11: Class_accuracy: 98.44%\n",
            "Epoch 12: Class_accuracy: 98.51%\n",
            "Temperature is 4\n",
            "Epoch 1: Class_accuracy: 98.37%\n",
            "Epoch 2: Class_accuracy: 98.45%\n",
            "Epoch 3: Class_accuracy: 98.31%\n",
            "Epoch 4: Class_accuracy: 98.58%\n",
            "Epoch 5: Class_accuracy: 98.53%\n",
            "Epoch 6: Class_accuracy: 98.50%\n",
            "Epoch 7: Class_accuracy: 98.51%\n",
            "Epoch 8: Class_accuracy: 98.43%\n",
            "Epoch 9: Class_accuracy: 98.41%\n",
            "Epoch 10: Class_accuracy: 98.52%\n",
            "Epoch 11: Class_accuracy: 98.35%\n",
            "Epoch 12: Class_accuracy: 98.36%\n",
            "Temperature is 16\n",
            "Epoch 1: Class_accuracy: 98.38%\n",
            "Epoch 2: Class_accuracy: 98.49%\n",
            "Epoch 3: Class_accuracy: 98.45%\n",
            "Epoch 4: Class_accuracy: 98.50%\n",
            "Epoch 5: Class_accuracy: 98.45%\n",
            "Epoch 6: Class_accuracy: 98.51%\n",
            "Epoch 7: Class_accuracy: 98.49%\n",
            "Epoch 8: Class_accuracy: 98.43%\n",
            "Epoch 9: Class_accuracy: 98.11%\n",
            "Epoch 10: Class_accuracy: 98.44%\n",
            "Epoch 11: Class_accuracy: 98.40%\n",
            "Epoch 12: Class_accuracy: 98.37%\n",
            "Temperature is 32\n",
            "Epoch 1: Class_accuracy: 98.50%\n",
            "Epoch 2: Class_accuracy: 98.41%\n",
            "Epoch 3: Class_accuracy: 98.27%\n",
            "Epoch 4: Class_accuracy: 98.37%\n",
            "Epoch 5: Class_accuracy: 98.42%\n",
            "Epoch 6: Class_accuracy: 98.44%\n",
            "Epoch 7: Class_accuracy: 98.29%\n",
            "Epoch 8: Class_accuracy: 98.32%\n",
            "Epoch 9: Class_accuracy: 98.33%\n",
            "Epoch 10: Class_accuracy: 98.30%\n",
            "Epoch 11: Class_accuracy: 98.41%\n",
            "Epoch 12: Class_accuracy: 98.43%\n",
            "Temperature is 64\n",
            "Epoch 1: Class_accuracy: 98.32%\n",
            "Epoch 2: Class_accuracy: 98.32%\n",
            "Epoch 3: Class_accuracy: 98.20%\n",
            "Epoch 4: Class_accuracy: 98.38%\n",
            "Epoch 5: Class_accuracy: 98.43%\n",
            "Epoch 6: Class_accuracy: 98.41%\n",
            "Epoch 7: Class_accuracy: 98.40%\n",
            "Epoch 8: Class_accuracy: 98.31%\n",
            "Epoch 9: Class_accuracy: 98.42%\n",
            "Epoch 10: Class_accuracy: 98.12%\n",
            "Epoch 11: Class_accuracy: 98.24%\n",
            "Epoch 12: Class_accuracy: 98.42%\n"
          ]
        }
      ]
    },
    {
      "cell_type": "code",
      "source": [
        "plt.figure()\n",
        "T = [1,2,4,16,32,64]\n",
        "accuracy_list = [98.45,98.51,98.36,98.37,98.43,98.42]\n",
        "plt.plot(T, accuracy_list,'.-')\n",
        "#plt.axis([1, 64, 98, 99])\n",
        "plt.title(\"Test Accuracy vs Temperature\")\n",
        "plt.xlabel('Temperature')\n",
        "plt.ylabel('Test Accuracy')\n",
        "plt.show()"
      ],
      "metadata": {
        "id": "sQnd_ZjfLPjf",
        "colab": {
          "base_uri": "https://localhost:8080/",
          "height": 295
        },
        "outputId": "60d7be85-852a-40b0-ff82-d15c70bc9c72"
      },
      "execution_count": null,
      "outputs": [
        {
          "output_type": "display_data",
          "data": {
            "text/plain": [
              "<Figure size 432x288 with 1 Axes>"
            ],
            "image/png": "[encoded data removed]"
          },
          "metadata": {
            "needs_background": "light"
          }
        }
      ]
    },
    {
      "cell_type": "markdown",
      "source": [
        "# Train student from scratch"
      ],
      "metadata": {
        "id": "WNrH_1emRbGA"
      }
    },
    {
      "cell_type": "code",
      "source": [
        "# Build fully connected student.\n",
        "fc_model_no_distillation = tf.keras.Sequential()\n",
        "fc_model_no_distillation.add(Flatten(input_shape=(28, 28, 1)))\n",
        "fc_model_no_distillation.add(Dense(784, activation='relu'))\n",
        "fc_model_no_distillation.add(Dense(784, activation='relu'))\n",
        "fc_model_no_distillation.add(Dense(10))\n",
        "\n",
        "fc_model_no_distillation.summary()"
      ],
      "metadata": {
        "colab": {
          "base_uri": "https://localhost:8080/"
        },
        "id": "yNCvo3A-CkoU",
        "outputId": "3ad54cb4-7d6a-462e-8332-20a01649e5e6"
      },
      "execution_count": 11,
      "outputs": [
        {
          "output_type": "stream",
          "name": "stdout",
          "text": [
            "Model: \"sequential_2\"\n",
            "_________________________________________________________________\n",
            " Layer (type)                Output Shape              Param #   \n",
            "=================================================================\n",
            " flatten_2 (Flatten)         (None, 784)               0         \n",
            "                                                                 \n",
            " dense_5 (Dense)             (None, 784)               615440    \n",
            "                                                                 \n",
            " dense_6 (Dense)             (None, 784)               615440    \n",
            "                                                                 \n",
            " dense_7 (Dense)             (None, 10)                7850      \n",
            "                                                                 \n",
            "=================================================================\n",
            "Total params: 1,238,730\n",
            "Trainable params: 1,238,730\n",
            "Non-trainable params: 0\n",
            "_________________________________________________________________\n"
          ]
        }
      ]
    },
    {
      "cell_type": "code",
      "source": [
        "def compute_plain_cross_entropy_loss(images, labels, ALPHA, DISTILLATION_TEMPERATURE):\n",
        "  \"\"\"Compute plain loss for given images and labels.\n",
        "\n",
        "  For fair comparison and convenience, this function also performs a\n",
        "  LogSumExp over subclasses, but does not perform subclass distillation.\n",
        "\n",
        "  Args:\n",
        "    images: Tensor representing a batch of images.\n",
        "    labels: Tensor representing a batch of labels.\n",
        "\n",
        "  Returns:\n",
        "    Scalar loss Tensor.\n",
        "  \"\"\"\n",
        "  # your code start from here for step 7\n",
        "\n",
        "  student_subclass_logits = fc_model_no_distillation(images, training=True)\n",
        "  cross_entropy_loss = tf.reduce_mean(tf.nn.softmax_cross_entropy_with_logits(labels, student_subclass_logits/DISTILLATION_TEMPERATURE))*DISTILLATION_TEMPERATURE**2\n",
        "\n",
        "  \n",
        "  return cross_entropy_loss\n",
        "\n",
        "train_and_evaluate(fc_model_no_distillation, compute_plain_cross_entropy_loss, 0.5, 4)"
      ],
      "metadata": {
        "id": "HjospsxIRbQ6",
        "colab": {
          "base_uri": "https://localhost:8080/"
        },
        "outputId": "752b49b4-a6ae-4ca2-b526-981729409122"
      },
      "execution_count": null,
      "outputs": [
        {
          "output_type": "stream",
          "name": "stdout",
          "text": [
            "Epoch 1: Class_accuracy: 95.96%\n",
            "Epoch 2: Class_accuracy: 96.97%\n",
            "Epoch 3: Class_accuracy: 97.74%\n",
            "Epoch 4: Class_accuracy: 97.68%\n",
            "Epoch 5: Class_accuracy: 98.09%\n",
            "Epoch 6: Class_accuracy: 97.97%\n",
            "Epoch 7: Class_accuracy: 98.24%\n",
            "Epoch 8: Class_accuracy: 98.00%\n",
            "Epoch 9: Class_accuracy: 98.19%\n",
            "Epoch 10: Class_accuracy: 98.05%\n",
            "Epoch 11: Class_accuracy: 98.03%\n",
            "Epoch 12: Class_accuracy: 97.99%\n"
          ]
        }
      ]
    },
    {
      "cell_type": "code",
      "source": [
        "fc_model_no_distillation.save(\"Student_Model_wokd_0.5_4.h5\")\n",
        "fc_model_no_distillation.save_weights(\"Student_Weights_wokd_0.5_4\")"
      ],
      "metadata": {
        "colab": {
          "base_uri": "https://localhost:8080/"
        },
        "id": "TGbwB70BAqSu",
        "outputId": "9028e6e8-cfdc-4d70-a50a-96fa5b1f80cb"
      },
      "execution_count": null,
      "outputs": [
        {
          "output_type": "stream",
          "name": "stdout",
          "text": [
            "WARNING:tensorflow:Compiled the loaded model, but the compiled metrics have yet to be built. `model.compile_metrics` will be empty until you train or evaluate the model.\n"
          ]
        },
        {
          "output_type": "stream",
          "name": "stderr",
          "text": [
            "WARNING:tensorflow:Compiled the loaded model, but the compiled metrics have yet to be built. `model.compile_metrics` will be empty until you train or evaluate the model.\n"
          ]
        }
      ]
    },
    {
      "cell_type": "markdown",
      "source": [
        "# Comparing the teacher and student model (number of of parameters and FLOPs) "
      ],
      "metadata": {
        "id": "yq3JTpQ4RuhR"
      }
    },
    {
      "cell_type": "code",
      "source": [
        "# your code start from here for step 8\n",
        "!pip install keras-flops\n",
        "from keras_flops import get_flops"
      ],
      "metadata": {
        "id": "4V8GB2yRRuxF",
        "colab": {
          "base_uri": "https://localhost:8080/"
        },
        "outputId": "00fdfb4b-4aa6-4bb5-f1de-5dcd056ff109"
      },
      "execution_count": 12,
      "outputs": [
        {
          "output_type": "stream",
          "name": "stdout",
          "text": [
            "Collecting keras-flops\n",
            "  Downloading keras_flops-0.1.2-py3-none-any.whl (5.3 kB)\n",
            "Requirement already satisfied: tensorflow<3.0,>=2.2 in /usr/local/lib/python3.7/dist-packages (from keras-flops) (2.8.0)\n",
            "Requirement already satisfied: wrapt>=1.11.0 in /usr/local/lib/python3.7/dist-packages (from tensorflow<3.0,>=2.2->keras-flops) (1.14.0)\n",
            "Requirement already satisfied: tensorflow-io-gcs-filesystem>=0.23.1 in /usr/local/lib/python3.7/dist-packages (from tensorflow<3.0,>=2.2->keras-flops) (0.24.0)\n",
            "Requirement already satisfied: flatbuffers>=1.12 in /usr/local/lib/python3.7/dist-packages (from tensorflow<3.0,>=2.2->keras-flops) (2.0)\n",
            "Requirement already satisfied: six>=1.12.0 in /usr/local/lib/python3.7/dist-packages (from tensorflow<3.0,>=2.2->keras-flops) (1.15.0)\n",
            "Requirement already satisfied: absl-py>=0.4.0 in /usr/local/lib/python3.7/dist-packages (from tensorflow<3.0,>=2.2->keras-flops) (1.0.0)\n",
            "Requirement already satisfied: termcolor>=1.1.0 in /usr/local/lib/python3.7/dist-packages (from tensorflow<3.0,>=2.2->keras-flops) (1.1.0)\n",
            "Requirement already satisfied: gast>=0.2.1 in /usr/local/lib/python3.7/dist-packages (from tensorflow<3.0,>=2.2->keras-flops) (0.5.3)\n",
            "Requirement already satisfied: libclang>=9.0.1 in /usr/local/lib/python3.7/dist-packages (from tensorflow<3.0,>=2.2->keras-flops) (13.0.0)\n",
            "Requirement already satisfied: typing-extensions>=3.6.6 in /usr/local/lib/python3.7/dist-packages (from tensorflow<3.0,>=2.2->keras-flops) (3.10.0.2)\n",
            "Requirement already satisfied: keras<2.9,>=2.8.0rc0 in /usr/local/lib/python3.7/dist-packages (from tensorflow<3.0,>=2.2->keras-flops) (2.8.0)\n",
            "Requirement already satisfied: grpcio<2.0,>=1.24.3 in /usr/local/lib/python3.7/dist-packages (from tensorflow<3.0,>=2.2->keras-flops) (1.44.0)\n",
            "Requirement already satisfied: setuptools in /usr/local/lib/python3.7/dist-packages (from tensorflow<3.0,>=2.2->keras-flops) (57.4.0)\n",
            "Collecting tf-estimator-nightly==2.8.0.dev2021122109\n",
            "  Downloading tf_estimator_nightly-2.8.0.dev2021122109-py2.py3-none-any.whl (462 kB)\n",
            "\u001b[K     |████████████████████████████████| 462 kB 7.1 MB/s \n",
            "\u001b[?25hRequirement already satisfied: h5py>=2.9.0 in /usr/local/lib/python3.7/dist-packages (from tensorflow<3.0,>=2.2->keras-flops) (3.1.0)\n",
            "Requirement already satisfied: opt-einsum>=2.3.2 in /usr/local/lib/python3.7/dist-packages (from tensorflow<3.0,>=2.2->keras-flops) (3.3.0)\n",
            "Requirement already satisfied: google-pasta>=0.1.1 in /usr/local/lib/python3.7/dist-packages (from tensorflow<3.0,>=2.2->keras-flops) (0.2.0)\n",
            "Requirement already satisfied: numpy>=1.20 in /usr/local/lib/python3.7/dist-packages (from tensorflow<3.0,>=2.2->keras-flops) (1.21.5)\n",
            "Requirement already satisfied: protobuf>=3.9.2 in /usr/local/lib/python3.7/dist-packages (from tensorflow<3.0,>=2.2->keras-flops) (3.17.3)\n",
            "Requirement already satisfied: tensorboard<2.9,>=2.8 in /usr/local/lib/python3.7/dist-packages (from tensorflow<3.0,>=2.2->keras-flops) (2.8.0)\n",
            "Requirement already satisfied: astunparse>=1.6.0 in /usr/local/lib/python3.7/dist-packages (from tensorflow<3.0,>=2.2->keras-flops) (1.6.3)\n",
            "Requirement already satisfied: keras-preprocessing>=1.1.1 in /usr/local/lib/python3.7/dist-packages (from tensorflow<3.0,>=2.2->keras-flops) (1.1.2)\n",
            "Requirement already satisfied: wheel<1.0,>=0.23.0 in /usr/local/lib/python3.7/dist-packages (from astunparse>=1.6.0->tensorflow<3.0,>=2.2->keras-flops) (0.37.1)\n",
            "Requirement already satisfied: cached-property in /usr/local/lib/python3.7/dist-packages (from h5py>=2.9.0->tensorflow<3.0,>=2.2->keras-flops) (1.5.2)\n",
            "Requirement already satisfied: markdown>=2.6.8 in /usr/local/lib/python3.7/dist-packages (from tensorboard<2.9,>=2.8->tensorflow<3.0,>=2.2->keras-flops) (3.3.6)\n",
            "Requirement already satisfied: tensorboard-data-server<0.7.0,>=0.6.0 in /usr/local/lib/python3.7/dist-packages (from tensorboard<2.9,>=2.8->tensorflow<3.0,>=2.2->keras-flops) (0.6.1)\n",
            "Requirement already satisfied: tensorboard-plugin-wit>=1.6.0 in /usr/local/lib/python3.7/dist-packages (from tensorboard<2.9,>=2.8->tensorflow<3.0,>=2.2->keras-flops) (1.8.1)\n",
            "Requirement already satisfied: werkzeug>=0.11.15 in /usr/local/lib/python3.7/dist-packages (from tensorboard<2.9,>=2.8->tensorflow<3.0,>=2.2->keras-flops) (1.0.1)\n",
            "Requirement already satisfied: google-auth-oauthlib<0.5,>=0.4.1 in /usr/local/lib/python3.7/dist-packages (from tensorboard<2.9,>=2.8->tensorflow<3.0,>=2.2->keras-flops) (0.4.6)\n",
            "Requirement already satisfied: google-auth<3,>=1.6.3 in /usr/local/lib/python3.7/dist-packages (from tensorboard<2.9,>=2.8->tensorflow<3.0,>=2.2->keras-flops) (1.35.0)\n",
            "Requirement already satisfied: requests<3,>=2.21.0 in /usr/local/lib/python3.7/dist-packages (from tensorboard<2.9,>=2.8->tensorflow<3.0,>=2.2->keras-flops) (2.23.0)\n",
            "Requirement already satisfied: rsa<5,>=3.1.4 in /usr/local/lib/python3.7/dist-packages (from google-auth<3,>=1.6.3->tensorboard<2.9,>=2.8->tensorflow<3.0,>=2.2->keras-flops) (4.8)\n",
            "Requirement already satisfied: cachetools<5.0,>=2.0.0 in /usr/local/lib/python3.7/dist-packages (from google-auth<3,>=1.6.3->tensorboard<2.9,>=2.8->tensorflow<3.0,>=2.2->keras-flops) (4.2.4)\n",
            "Requirement already satisfied: pyasn1-modules>=0.2.1 in /usr/local/lib/python3.7/dist-packages (from google-auth<3,>=1.6.3->tensorboard<2.9,>=2.8->tensorflow<3.0,>=2.2->keras-flops) (0.2.8)\n",
            "Requirement already satisfied: requests-oauthlib>=0.7.0 in /usr/local/lib/python3.7/dist-packages (from google-auth-oauthlib<0.5,>=0.4.1->tensorboard<2.9,>=2.8->tensorflow<3.0,>=2.2->keras-flops) (1.3.1)\n",
            "Requirement already satisfied: importlib-metadata>=4.4 in /usr/local/lib/python3.7/dist-packages (from markdown>=2.6.8->tensorboard<2.9,>=2.8->tensorflow<3.0,>=2.2->keras-flops) (4.11.3)\n",
            "Requirement already satisfied: zipp>=0.5 in /usr/local/lib/python3.7/dist-packages (from importlib-metadata>=4.4->markdown>=2.6.8->tensorboard<2.9,>=2.8->tensorflow<3.0,>=2.2->keras-flops) (3.7.0)\n",
            "Requirement already satisfied: pyasn1<0.5.0,>=0.4.6 in /usr/local/lib/python3.7/dist-packages (from pyasn1-modules>=0.2.1->google-auth<3,>=1.6.3->tensorboard<2.9,>=2.8->tensorflow<3.0,>=2.2->keras-flops) (0.4.8)\n",
            "Requirement already satisfied: chardet<4,>=3.0.2 in /usr/local/lib/python3.7/dist-packages (from requests<3,>=2.21.0->tensorboard<2.9,>=2.8->tensorflow<3.0,>=2.2->keras-flops) (3.0.4)\n",
            "Requirement already satisfied: urllib3!=1.25.0,!=1.25.1,<1.26,>=1.21.1 in /usr/local/lib/python3.7/dist-packages (from requests<3,>=2.21.0->tensorboard<2.9,>=2.8->tensorflow<3.0,>=2.2->keras-flops) (1.24.3)\n",
            "Requirement already satisfied: idna<3,>=2.5 in /usr/local/lib/python3.7/dist-packages (from requests<3,>=2.21.0->tensorboard<2.9,>=2.8->tensorflow<3.0,>=2.2->keras-flops) (2.10)\n",
            "Requirement already satisfied: certifi>=2017.4.17 in /usr/local/lib/python3.7/dist-packages (from requests<3,>=2.21.0->tensorboard<2.9,>=2.8->tensorflow<3.0,>=2.2->keras-flops) (2021.10.8)\n",
            "Requirement already satisfied: oauthlib>=3.0.0 in /usr/local/lib/python3.7/dist-packages (from requests-oauthlib>=0.7.0->google-auth-oauthlib<0.5,>=0.4.1->tensorboard<2.9,>=2.8->tensorflow<3.0,>=2.2->keras-flops) (3.2.0)\n",
            "Installing collected packages: tf-estimator-nightly, keras-flops\n",
            "Successfully installed keras-flops-0.1.2 tf-estimator-nightly-2.8.0.dev2021122109\n"
          ]
        }
      ]
    },
    {
      "cell_type": "code",
      "source": [
        "# Load Models\n",
        "# Load the previously trained teacher model\n",
        "teacher_model=tf.keras.models.load_model('/content/drive/MyDrive/ECE1512/dict/Teacher_Model.h5')\n",
        "teacher_model.load_weights('/content/drive/MyDrive/ECE1512/dict/Teacher_Weights')\n",
        "\n",
        "# Load the previously trained student model with KD\n",
        "student_w_kd_model=tf.keras.models.load_model('/content/drive/MyDrive/ECE1512/dict/Student_Model_0.5_4.h5')\n",
        "student_w_kd_model.load_weights('/content/drive/MyDrive/ECE1512/dict/Student_Weights_0.5_4')\n",
        "\n",
        "# Load the previously trained student model without KD\n",
        "student_wo_kd_model=tf.keras.models.load_model('/content/drive/MyDrive/ECE1512/dict/Student_Model_wokd_0.5_4.h5')\n",
        "student_wo_kd_model.load_weights('/content/drive/MyDrive/ECE1512/dict/Student_Weights_wokd_0.5_4')"
      ],
      "metadata": {
        "colab": {
          "base_uri": "https://localhost:8080/"
        },
        "id": "iUBnPrt0-YJ_",
        "outputId": "a8245349-94fd-49b9-8b68-2dad14f3d6a8"
      },
      "execution_count": 13,
      "outputs": [
        {
          "output_type": "stream",
          "name": "stdout",
          "text": [
            "WARNING:tensorflow:No training configuration found in the save file, so the model was *not* compiled. Compile it manually.\n"
          ]
        },
        {
          "output_type": "stream",
          "name": "stderr",
          "text": [
            "WARNING:tensorflow:No training configuration found in the save file, so the model was *not* compiled. Compile it manually.\n"
          ]
        },
        {
          "output_type": "stream",
          "name": "stdout",
          "text": [
            "WARNING:tensorflow:No training configuration found in the save file, so the model was *not* compiled. Compile it manually.\n"
          ]
        },
        {
          "output_type": "stream",
          "name": "stderr",
          "text": [
            "WARNING:tensorflow:No training configuration found in the save file, so the model was *not* compiled. Compile it manually.\n"
          ]
        },
        {
          "output_type": "stream",
          "name": "stdout",
          "text": [
            "WARNING:tensorflow:No training configuration found in the save file, so the model was *not* compiled. Compile it manually.\n"
          ]
        },
        {
          "output_type": "stream",
          "name": "stderr",
          "text": [
            "WARNING:tensorflow:No training configuration found in the save file, so the model was *not* compiled. Compile it manually.\n"
          ]
        },
        {
          "output_type": "execute_result",
          "data": {
            "text/plain": [
              "<tensorflow.python.training.tracking.util.CheckpointLoadStatus at 0x7fba64202c90>"
            ]
          },
          "metadata": {},
          "execution_count": 13
        }
      ]
    },
    {
      "cell_type": "code",
      "source": [
        "# Teacher Model FLOPs\n",
        "flops = get_flops(teacher_model, batch_size=1)\n",
        "print(\"Teacher Model\")\n",
        "print(f\"FLOPS: {flops / 10 ** 9:.03} G\")\n",
        "# Student Model(w/ KD) FLOPs\n",
        "flops = get_flops(student_w_kd_model, batch_size=1)\n",
        "print(\"Student Model With KD\")\n",
        "print(f\"FLOPS: {flops / 10 ** 9:.03} G\")\n",
        "# Student Model(w/o KD) FLOPs\n",
        "flops = get_flops(student_wo_kd_model, batch_size=1)\n",
        "print(\"Student Model Without KD\")\n",
        "print(f\"FLOPS: {flops / 10 ** 9:.03} G\")"
      ],
      "metadata": {
        "colab": {
          "base_uri": "https://localhost:8080/"
        },
        "id": "ThJHR0OgAAW1",
        "outputId": "97e857ba-f322-42cc-9f26-73ee94d4b208"
      },
      "execution_count": 14,
      "outputs": [
        {
          "output_type": "stream",
          "name": "stdout",
          "text": [
            "WARNING:tensorflow:From /usr/local/lib/python3.7/dist-packages/tensorflow/python/ops/nn_ops.py:5214: tensor_shape_from_node_def_name (from tensorflow.python.framework.graph_util_impl) is deprecated and will be removed in a future version.\n",
            "Instructions for updating:\n",
            "Use `tf.compat.v1.graph_util.tensor_shape_from_node_def_name`\n"
          ]
        },
        {
          "output_type": "stream",
          "name": "stderr",
          "text": [
            "WARNING:tensorflow:From /usr/local/lib/python3.7/dist-packages/tensorflow/python/ops/nn_ops.py:5214: tensor_shape_from_node_def_name (from tensorflow.python.framework.graph_util_impl) is deprecated and will be removed in a future version.\n",
            "Instructions for updating:\n",
            "Use `tf.compat.v1.graph_util.tensor_shape_from_node_def_name`\n"
          ]
        },
        {
          "output_type": "stream",
          "name": "stdout",
          "text": [
            "Teacher Model\n",
            "FLOPS: 0.022 G\n",
            "Student Model With KD\n",
            "FLOPS: 0.00248 G\n",
            "Student Model Without KD\n",
            "FLOPS: 0.00248 G\n"
          ]
        }
      ]
    },
    {
      "cell_type": "markdown",
      "source": [
        "# XAI method to explain models"
      ],
      "metadata": {
        "id": "8b5yNhJfRu-7"
      }
    },
    {
      "cell_type": "code",
      "source": [
        "#Code in Project A:\n",
        "def create_random_mask(h=7, w=7, H=224, W=224, p_1=0.5, resample=Image.BILINEAR):\n",
        "    '''\n",
        "    Generates one random mask utilized in RISE\n",
        "    inputs:\n",
        "        h, w: initial size of binary mask\n",
        "        H, W: final size of the upsampled mask\n",
        "        p_1: probability of actiating pixels in the down-sampled masks.\n",
        "        interp: upsampling technique.\n",
        "    returns:\n",
        "        mask: a smooth mask with the values in range [0,1] with size of HxW.\n",
        "    '''\n",
        "    assert H>h, 'Masks should be resized to higher dimensions.'\n",
        "    assert W>w, 'Masks should be resized to higher dimensions.'\n",
        "    # create random binary hxw mask\n",
        "    mask=np.random.choice([0, 1], size=(h, w), p=[1-p_1, p_1])\n",
        "\n",
        "    # upsample mask to (h+H,w+W)\n",
        "    mask = Image.fromarray(mask*255.)\n",
        "    mask = mask.resize((H + h, W + w), resample=resample)\n",
        "    mask = np.array(mask)\n",
        "\n",
        "    # randomly crop mask to HxW\n",
        "    w_crop = np.random.randint(0,w+1)\n",
        "    h_crop = np.random.randint(0,h+1)\n",
        "    mask = mask[h_crop:H + h_crop, w_crop:W + w_crop]\n",
        "\n",
        "    # normalize between 0 and 1\n",
        "    mask /= np.max(mask)\n",
        "    return mask\n",
        "\n",
        "def RISE(img, model, class_index, N_MASKS=8000, H=28, W=28, C=1):\n",
        "    '''\n",
        "\timg: a 3-D input image\n",
        "\tmodel: a trained model\n",
        "\tclass_index; The class of interest\n",
        "\tN_MASKS: The number of random masks to be generated\n",
        "\tH,W,C: The desired dimensions of the random masks\n",
        "\t'''\n",
        "    X = np.zeros(shape=(N_MASKS, H, W, C), dtype=np.float32)\n",
        "    masks = np.zeros((N_MASKS,H,W), dtype=np.float32)\n",
        "    #for i in tqdm(range(N_MASKS)):\n",
        "    for i in range(N_MASKS):\n",
        "        m =create_random_mask(H=H, W=W)\n",
        "        masks[i] = m\n",
        "        x = img.copy()\n",
        "        #print(x.shape)\n",
        "        #print(m.shape)\n",
        "        x[:, :, 0] *= m\n",
        "        #x[:, :, 1] *= m\n",
        "        #x[:, :, 2] *= m\n",
        "        X[i] = x\n",
        "    preds_masked = model.predict(X, verbose=0)\n",
        "    sum_mask = np.zeros(masks[0].shape, dtype=np.float32)\n",
        "\n",
        "    # np.einsum???\n",
        "    for i, mask in enumerate(masks):\n",
        "        m = mask * preds_masked[i, class_index]\n",
        "        sum_mask += m\n",
        "\n",
        "    sum_mask -= np.min(sum_mask)\n",
        "    sum_mask /= np.max(sum_mask)\n",
        "    return sum_mask"
      ],
      "metadata": {
        "id": "cqdDrEpein5x"
      },
      "execution_count": 15,
      "outputs": []
    },
    {
      "cell_type": "markdown",
      "source": [
        "## Get a Sample Image"
      ],
      "metadata": {
        "id": "285-KsfE3-j4"
      }
    },
    {
      "cell_type": "code",
      "source": [
        "# Get one batch\n",
        "mnist_sample_batch, = mnist_test.take(1)\n",
        "images_batch, labels_batch = mnist_sample_batch\n",
        "\n",
        "# Plot image samples\n",
        "import random\n",
        "random.seed(50)\n",
        "number = random.randint(0,255)\n",
        "sample_image = tf.squeeze(images_batch[number])\n",
        "sample_label = np.argmax(labels_batch[number])\n",
        "# plt.figure(figsize=(12,12))\n",
        "plt.imshow(sample_image)\n",
        "plt.axis(\"off\")\n",
        "plt.title(\"Image label: {}\".format(sample_label))\n",
        "plt.show()"
      ],
      "metadata": {
        "id": "yFgp5kA5RvID",
        "colab": {
          "base_uri": "https://localhost:8080/",
          "height": 264
        },
        "outputId": "54c492ae-fa4d-498a-b3fa-9a122b8e62ea"
      },
      "execution_count": 59,
      "outputs": [
        {
          "output_type": "display_data",
          "data": {
            "text/plain": [
              "<Figure size 432x288 with 1 Axes>"
            ],
            "image/png": "[encoded data removed]"
          },
          "metadata": {
            "needs_background": "light"
          }
        }
      ]
    },
    {
      "cell_type": "markdown",
      "source": [
        "## Predictions of Three Models"
      ],
      "metadata": {
        "id": "CGZN6AJ57pDq"
      }
    },
    {
      "cell_type": "code",
      "source": [
        "#Predictions from Teacher Model， Student Model w/ KD, and Student Model w/o KD\n",
        "tracher_pred = np.argmax(tf.nn.softmax(teacher_model(tf.expand_dims(sample_image, axis=0))))\n",
        "student_w_kd_pred = np.argmax(tf.nn.softmax(student_w_kd_model(tf.expand_dims(sample_image, axis=0))))\n",
        "student_wo_kd_pred = np.argmax(tf.nn.softmax(student_wo_kd_model(tf.expand_dims(sample_image, axis=0))))\n",
        "print(\"Teacher Predict Result:\",tracher_pred,\"\\nStudent With KD Predict Result:\",student_w_kd_pred,\"\\nStudent Without KD Predict Result\",student_wo_kd_pred)"
      ],
      "metadata": {
        "id": "ug4t9VK8MbAb",
        "colab": {
          "base_uri": "https://localhost:8080/"
        },
        "outputId": "1f70390a-4c75-4fd7-de9d-aca23aa7cf44"
      },
      "execution_count": 60,
      "outputs": [
        {
          "output_type": "stream",
          "name": "stdout",
          "text": [
            "Teacher Predict Result: 3 \n",
            "Student With KD Predict Result: 3 \n",
            "Student Without KD Predict Result 3\n"
          ]
        }
      ]
    },
    {
      "cell_type": "markdown",
      "source": [
        "## RISE Methods Explain the three models"
      ],
      "metadata": {
        "id": "mME4Nj9c7yBT"
      }
    },
    {
      "cell_type": "code",
      "source": [
        "# Get Explanation Maps from three models\n",
        "Teacher_RISE = RISE(images_batch[number].numpy(), teacher_model, class_index=sample_label, N_MASKS=8000)\n",
        "Teacher_RISE -= Teacher_RISE.min()\n",
        "Teacher_RISE /= Teacher_RISE.max()+10e-30\n",
        "\n",
        "Student_w_kd_RISE = RISE(images_batch[number].numpy(), student_w_kd_model, class_index=sample_label, N_MASKS=8000)\n",
        "Student_w_kd_RISE -= Student_w_kd_RISE.min()\n",
        "Student_w_kd_RISE /= Student_w_kd_RISE.max()+10e-30\n",
        "\n",
        "Student_wo_kd_RISE = RISE(images_batch[number].numpy(), student_wo_kd_model, class_index=sample_label, N_MASKS=8000)\n",
        "Student_wo_kd_RISE -= Student_wo_kd_RISE.min()\n",
        "Student_wo_kd_RISE /= Student_wo_kd_RISE.max()+10e-30"
      ],
      "metadata": {
        "id": "O_bffoVR9iAL"
      },
      "execution_count": 66,
      "outputs": []
    },
    {
      "cell_type": "code",
      "source": [
        "# Plot Three explanation map from different models\n",
        "# Teacher Model\n",
        "plt.figure(figsize=(8,8))\n",
        "plt.subplot(3,2,1)\n",
        "plt.title(\"Input Image-label: {}\".format(sample_label))\n",
        "plt.imshow(sample_image)\n",
        "plt.axis(\"off\")\n",
        "\n",
        "plt.subplot(3,2,2)\n",
        "plt.title('Teacher Explanation Map')\n",
        "plt.imshow(Teacher_RISE, cmap='jet', alpha=0.5)\n",
        "plt.axis('off')\n",
        "\n",
        "# Student w/ KD Model\n",
        "plt.subplot(3,2,3)\n",
        "plt.title(\"Input Image-label: {}\".format(sample_label))\n",
        "plt.imshow(sample_image)\n",
        "plt.axis('off')\n",
        "\n",
        "plt.subplot(3,2,4)\n",
        "plt.title('Student w/ KD Explanation Map')\n",
        "plt.imshow(Student_w_kd_RISE, cmap='jet', alpha=0.5)\n",
        "plt.axis('off')\n",
        "\n",
        "# Student w/o KD Model\n",
        "plt.subplot(3,2,5)\n",
        "plt.title(\"Input Image-label: {}\".format(sample_label))\n",
        "plt.imshow(sample_image)\n",
        "plt.axis('off')\n",
        "\n",
        "plt.subplot(3,2,6)\n",
        "plt.title('Student w/o KD Explanation Map')\n",
        "plt.imshow(Student_wo_kd_RISE, cmap='jet', alpha=0.5)\n",
        "plt.axis('off')\n",
        "\n",
        "plt.show()"
      ],
      "metadata": {
        "colab": {
          "base_uri": "https://localhost:8080/",
          "height": 482
        },
        "id": "-SmT2ZQt9fro",
        "outputId": "d1ffa495-a4dc-41bf-9996-e9aee6f73635"
      },
      "execution_count": 67,
      "outputs": [
        {
          "output_type": "display_data",
          "data": {
            "text/plain": [
              "<Figure size 576x576 with 6 Axes>"
            ],
            "image/png": "[encoded data removed]"
          },
          "metadata": {
            "needs_background": "light"
          }
        }
      ]
    },
    {
      "cell_type": "code",
      "source": [
        "#Merge input and explanation maps\n",
        "plt.figure(figsize=(12,12))\n",
        "plt.subplot(1,3,1)\n",
        "plt.title('Teacher')\n",
        "plt.imshow(sample_image)\n",
        "plt.imshow(Teacher_RISE, cmap='jet', alpha=0.5)\n",
        "plt.axis('off')\n",
        "\n",
        "plt.subplot(1,3,2)\n",
        "plt.title('Student w/ KD')\n",
        "plt.imshow(sample_image)\n",
        "plt.imshow(Student_w_kd_RISE, cmap='jet', alpha=0.5)\n",
        "plt.axis('off')\n",
        "\n",
        "plt.subplot(1,3,3)\n",
        "plt.title('Student w/o KD')\n",
        "plt.imshow(sample_image)\n",
        "plt.imshow(Student_wo_kd_RISE, cmap='jet', alpha=0.5)\n",
        "plt.axis('off')\n",
        "\n",
        "plt.show()"
      ],
      "metadata": {
        "id": "h6FE5_QYioBW",
        "colab": {
          "base_uri": "https://localhost:8080/",
          "height": 244
        },
        "outputId": "b012ac87-72f5-4e20-ea00-ba93d9824dd3"
      },
      "execution_count": 68,
      "outputs": [
        {
          "output_type": "display_data",
          "data": {
            "text/plain": [
              "<Figure size 864x864 with 3 Axes>"
            ],
            "image/png": "[encoded data removed]"
          },
          "metadata": {
            "needs_background": "light"
          }
        }
      ]
    },
    {
      "cell_type": "markdown",
      "source": [
        "# Implementing the state-of-the-art KD algorithm"
      ],
      "metadata": {
        "id": "KjwJ5oziRvRn"
      }
    },
    {
      "cell_type": "code",
      "source": [
        "# your code start from here for step 13\n",
        "\n"
      ],
      "metadata": {
        "id": "q10lybAFRvZt"
      },
      "execution_count": null,
      "outputs": []
    },
    {
      "cell_type": "markdown",
      "source": [
        "##TAKD"
      ],
      "metadata": {
        "id": "T7a9oowOUHno"
      }
    },
    {
      "cell_type": "markdown",
      "source": [
        "### Model creation"
      ],
      "metadata": {
        "id": "a_4sWVLvWXWO"
      }
    },
    {
      "cell_type": "code",
      "source": [
        "#teacher\n",
        "teacher_takd = tf.keras.Sequential()\n",
        "teacher_takd.add(Conv2D(32, (3,3), strides=1, \n",
        "       input_shape=(28, 28, 1), activation='relu'))\n",
        "teacher_takd.add(MaxPooling2D(pool_size=(2,2), strides=1))\n",
        "teacher_takd.add(Conv2D(64, (3,3), strides=1, activation='relu'))\n",
        "teacher_takd.add(MaxPooling2D(pool_size=(2,2), strides=2))\n",
        "teacher_takd.add(Flatten())\n",
        "teacher_takd.add(Dropout(rate=0.5))\n",
        "teacher_takd.add(Dense(128, activation='relu'))\n",
        "teacher_takd.add(Dropout(rate=0.5))\n",
        "teacher_takd.add(Dense(10))\n",
        "\n",
        "teacher_takd.summary()"
      ],
      "metadata": {
        "colab": {
          "base_uri": "https://localhost:8080/"
        },
        "id": "XybCoy-2UKmQ",
        "outputId": "3ce1102a-8c4e-4897-ff53-a37f38554267"
      },
      "execution_count": 35,
      "outputs": [
        {
          "output_type": "stream",
          "name": "stdout",
          "text": [
            "Model: \"sequential_2\"\n",
            "_________________________________________________________________\n",
            " Layer (type)                Output Shape              Param #   \n",
            "=================================================================\n",
            " conv2d_2 (Conv2D)           (None, 26, 26, 32)        320       \n",
            "                                                                 \n",
            " max_pooling2d_2 (MaxPooling  (None, 25, 25, 32)       0         \n",
            " 2D)                                                             \n",
            "                                                                 \n",
            " conv2d_3 (Conv2D)           (None, 23, 23, 64)        18496     \n",
            "                                                                 \n",
            " max_pooling2d_3 (MaxPooling  (None, 11, 11, 64)       0         \n",
            " 2D)                                                             \n",
            "                                                                 \n",
            " flatten_2 (Flatten)         (None, 7744)              0         \n",
            "                                                                 \n",
            " dropout_2 (Dropout)         (None, 7744)              0         \n",
            "                                                                 \n",
            " dense_5 (Dense)             (None, 128)               991360    \n",
            "                                                                 \n",
            " dropout_3 (Dropout)         (None, 128)               0         \n",
            "                                                                 \n",
            " dense_6 (Dense)             (None, 10)                1290      \n",
            "                                                                 \n",
            "=================================================================\n",
            "Total params: 1,011,466\n",
            "Trainable params: 1,011,466\n",
            "Non-trainable params: 0\n",
            "_________________________________________________________________\n"
          ]
        }
      ]
    },
    {
      "cell_type": "code",
      "source": [
        "#teacher assistant\n",
        "TA = tf.keras.Sequential()\n",
        "TA.add(Conv2D(32, (3,3), strides=1,\n",
        "       input_shape=(28, 28, 1), activation='relu'))\n",
        "TA.add(MaxPooling2D(pool_size=(2,2), strides=2))\n",
        "TA.add(Flatten())\n",
        "TA.add(Dense(784, activation='relu'))\n",
        "TA.add(Dense(784, activation='relu'))\n",
        "TA.add(Dense(10))\n",
        "\n",
        "TA.summary()"
      ],
      "metadata": {
        "colab": {
          "base_uri": "https://localhost:8080/"
        },
        "id": "EOjk7xfQpYm2",
        "outputId": "ef93783f-389d-4bf2-d3c1-6608a3d031e9"
      },
      "execution_count": 36,
      "outputs": [
        {
          "output_type": "stream",
          "name": "stdout",
          "text": [
            "Model: \"sequential_3\"\n",
            "_________________________________________________________________\n",
            " Layer (type)                Output Shape              Param #   \n",
            "=================================================================\n",
            " conv2d_4 (Conv2D)           (None, 26, 26, 32)        320       \n",
            "                                                                 \n",
            " max_pooling2d_4 (MaxPooling  (None, 13, 13, 32)       0         \n",
            " 2D)                                                             \n",
            "                                                                 \n",
            " flatten_3 (Flatten)         (None, 5408)              0         \n",
            "                                                                 \n",
            " dense_7 (Dense)             (None, 784)               4240656   \n",
            "                                                                 \n",
            " dense_8 (Dense)             (None, 784)               615440    \n",
            "                                                                 \n",
            " dense_9 (Dense)             (None, 10)                7850      \n",
            "                                                                 \n",
            "=================================================================\n",
            "Total params: 4,864,266\n",
            "Trainable params: 4,864,266\n",
            "Non-trainable params: 0\n",
            "_________________________________________________________________\n"
          ]
        }
      ]
    },
    {
      "cell_type": "code",
      "source": [
        "#student\n",
        "student_takd = tf.keras.Sequential()\n",
        "student_takd.add(Flatten(input_shape=(28, 28, 1)))\n",
        "student_takd.add(Dense(784, activation='relu'))\n",
        "student_takd.add(Dense(784, activation='relu'))\n",
        "student_takd.add(Dense(10))\n",
        "\n",
        "student_takd.summary()"
      ],
      "metadata": {
        "colab": {
          "base_uri": "https://localhost:8080/"
        },
        "id": "RAAfcILRUKrl",
        "outputId": "6e47dfdc-6b0d-4bff-87c0-381039f088b0"
      },
      "execution_count": 37,
      "outputs": [
        {
          "output_type": "stream",
          "name": "stdout",
          "text": [
            "Model: \"sequential_4\"\n",
            "_________________________________________________________________\n",
            " Layer (type)                Output Shape              Param #   \n",
            "=================================================================\n",
            " flatten_4 (Flatten)         (None, 784)               0         \n",
            "                                                                 \n",
            " dense_10 (Dense)            (None, 784)               615440    \n",
            "                                                                 \n",
            " dense_11 (Dense)            (None, 784)               615440    \n",
            "                                                                 \n",
            " dense_12 (Dense)            (None, 10)                7850      \n",
            "                                                                 \n",
            "=================================================================\n",
            "Total params: 1,238,730\n",
            "Trainable params: 1,238,730\n",
            "Non-trainable params: 0\n",
            "_________________________________________________________________\n"
          ]
        }
      ]
    },
    {
      "cell_type": "markdown",
      "source": [
        "### Teacher loss function"
      ],
      "metadata": {
        "id": "61I2vcaUWbhA"
      }
    },
    {
      "cell_type": "code",
      "source": [
        "@tf.function\n",
        "def compute_teacher_loss(images, labels, ALPHA, DISTILLATION_TEMPERATURE):\n",
        "  \"\"\"Compute subclass knowledge distillation teacher loss for given images\n",
        "     and labels.\n",
        "\n",
        "  Args:\n",
        "    images: Tensor representing a batch of images.\n",
        "    labels: Tensor representing a batch of labels.\n",
        "\n",
        "  Returns:\n",
        "    Scalar loss Tensor.\n",
        "  \"\"\"\n",
        "  subclass_logits = teacher_takd(images, training=True)\n",
        "\n",
        "  # Compute cross-entropy loss for subclasses.\n",
        "\n",
        "  # your code start from here for step 3\n",
        "  cross_entropy_loss_value = tf.reduce_mean(tf.nn.softmax_cross_entropy_with_logits(labels, subclass_logits))\n",
        "\n",
        "\n",
        "  return cross_entropy_loss_value"
      ],
      "metadata": {
        "id": "u0h0FwnvUKuI"
      },
      "execution_count": 38,
      "outputs": []
    },
    {
      "cell_type": "markdown",
      "source": [
        "### Distillation loss"
      ],
      "metadata": {
        "id": "MugnKxvZZbnr"
      }
    },
    {
      "cell_type": "code",
      "source": [
        "def distillation_loss(teacher_logits: tf.Tensor, student_logits: tf.Tensor,\n",
        "                      temperature: Union[float, tf.Tensor]):\n",
        "  \"\"\"Compute distillation loss.\n",
        "\n",
        "  This function computes cross entropy between softened logits and softened\n",
        "  targets. The resulting loss is scaled by the squared temperature so that\n",
        "  the gradient magnitude remains approximately constant as the temperature is\n",
        "  changed. For reference, see Hinton et al., 2014, \"Distilling the knowledge in\n",
        "  a neural network.\"\n",
        "\n",
        "  Args:\n",
        "    teacher_logits: A Tensor of logits provided by the teacher.\n",
        "    student_logits: A Tensor of logits provided by the student, of the same\n",
        "      shape as `teacher_logits`.\n",
        "    temperature: Temperature to use for distillation.\n",
        "\n",
        "  Returns:\n",
        "    A scalar Tensor containing the distillation loss.\n",
        "  \"\"\"\n",
        " # your code start from here for step 3\n",
        "  soft_targets = tf.nn.softmax(teacher_logits/temperature)\n",
        "\n",
        "  return tf.reduce_mean(\n",
        "      tf.nn.softmax_cross_entropy_with_logits(\n",
        "          soft_targets, student_logits / temperature)) * temperature ** 2"
      ],
      "metadata": {
        "id": "0C7xtjkRUKyf"
      },
      "execution_count": 39,
      "outputs": []
    },
    {
      "cell_type": "markdown",
      "source": [
        "### TA loss function"
      ],
      "metadata": {
        "id": "rFOSZrB_Zqxn"
      }
    },
    {
      "cell_type": "code",
      "source": [
        "def compute_TA_loss(images, labels, ALPHA, DISTILLATION_TEMPERATURE):\n",
        "  \"\"\"Compute subclass knowledge distillation student loss for given images\n",
        "     and labels.\n",
        "\n",
        "  Args:\n",
        "    images: Tensor representing a batch of images.\n",
        "    labels: Tensor representing a batch of labels.\n",
        "\n",
        "  Returns:\n",
        "    Scalar loss Tensor.\n",
        "  \"\"\"\n",
        "  student_subclass_logits = TA(images, training=True)\n",
        "\n",
        "  # Compute subclass distillation loss between student subclass logits and\n",
        "  # softened teacher subclass targets probabilities.\n",
        "  teacher_subclass_logits = teacher_takd(images, training=False)\n",
        "  distillation_loss_value = distillation_loss(teacher_subclass_logits,student_subclass_logits,DISTILLATION_TEMPERATURE)\n",
        "\n",
        "  # Compute cross-entropy loss with hard targets.\n",
        "  cross_entropy_loss_value = tf.reduce_mean(tf.nn.softmax_cross_entropy_with_logits(labels,student_subclass_logits))\n",
        "\n",
        "  # Compute the total loss \n",
        "  total_loss = ALPHA*cross_entropy_loss_value+(1-ALPHA)*distillation_loss_value\n",
        "\n",
        "  return total_loss"
      ],
      "metadata": {
        "id": "191ltclXZuaz"
      },
      "execution_count": 40,
      "outputs": []
    },
    {
      "cell_type": "markdown",
      "source": [
        "### Student loss function"
      ],
      "metadata": {
        "id": "Nkhfwu0HZqz9"
      }
    },
    {
      "cell_type": "code",
      "source": [
        "def compute_student_loss(images, labels, ALPHA, DISTILLATION_TEMPERATURE):\n",
        "  \"\"\"Compute subclass knowledge distillation student loss for given images\n",
        "     and labels.\n",
        "\n",
        "  Args:\n",
        "    images: Tensor representing a batch of images.\n",
        "    labels: Tensor representing a batch of labels.\n",
        "\n",
        "  Returns:\n",
        "    Scalar loss Tensor.\n",
        "  \"\"\"\n",
        "  student_subclass_logits = student_takd(images, training=True)\n",
        "\n",
        "  # Compute subclass distillation loss between student subclass logits and\n",
        "  # softened teacher subclass targets probabilities.\n",
        "  teacher_subclass_logits = TA(images, training=False)\n",
        "  distillation_loss_value = distillation_loss(teacher_subclass_logits,student_subclass_logits,DISTILLATION_TEMPERATURE)\n",
        "\n",
        "  # Compute cross-entropy loss with hard targets.\n",
        "  cross_entropy_loss_value = tf.reduce_mean(tf.nn.softmax_cross_entropy_with_logits(labels,student_subclass_logits))\n",
        "\n",
        "  # Compute the total loss \n",
        "  total_loss = ALPHA*cross_entropy_loss_value+(1-ALPHA)*distillation_loss_value\n",
        "\n",
        "  return total_loss"
      ],
      "metadata": {
        "id": "52zgaKPAUK05"
      },
      "execution_count": 41,
      "outputs": []
    },
    {
      "cell_type": "markdown",
      "source": [
        "### # Train and evaluation"
      ],
      "metadata": {
        "id": "V3VvQ0Jncu1u"
      }
    },
    {
      "cell_type": "code",
      "source": [
        "# Teacher Model\n",
        "train_and_evaluate(teacher_takd, compute_teacher_loss, 0.5, 4)"
      ],
      "metadata": {
        "colab": {
          "base_uri": "https://localhost:8080/"
        },
        "id": "mxhmGMiNUK3c",
        "outputId": "b7e2caff-598a-42d0-83f9-3cab78d06909"
      },
      "execution_count": 46,
      "outputs": [
        {
          "output_type": "stream",
          "name": "stdout",
          "text": [
            "Epoch 1: Class_accuracy: 99.46%\n",
            "Epoch 2: Class_accuracy: 99.42%\n",
            "Epoch 3: Class_accuracy: 99.40%\n",
            "Epoch 4: Class_accuracy: 99.33%\n",
            "Epoch 5: Class_accuracy: 99.34%\n",
            "Epoch 6: Class_accuracy: 99.45%\n",
            "Epoch 7: Class_accuracy: 99.39%\n",
            "Epoch 8: Class_accuracy: 99.32%\n",
            "Epoch 9: Class_accuracy: 99.35%\n",
            "Epoch 10: Class_accuracy: 99.29%\n",
            "Epoch 11: Class_accuracy: 99.39%\n",
            "Epoch 12: Class_accuracy: 99.49%\n"
          ]
        }
      ]
    },
    {
      "cell_type": "code",
      "source": [
        "teacher_takd.save(\"Teacher_TAKD.h5\")\n",
        "teacher_takd.save_weights(\"Teacher_Weights_TAKD\")"
      ],
      "metadata": {
        "colab": {
          "base_uri": "https://localhost:8080/"
        },
        "id": "BuBBHw-BcH--",
        "outputId": "b9198ffa-a3d8-4a4c-f6fc-3736c15c86a8"
      },
      "execution_count": 47,
      "outputs": [
        {
          "output_type": "stream",
          "name": "stdout",
          "text": [
            "WARNING:tensorflow:Compiled the loaded model, but the compiled metrics have yet to be built. `model.compile_metrics` will be empty until you train or evaluate the model.\n"
          ]
        },
        {
          "output_type": "stream",
          "name": "stderr",
          "text": [
            "WARNING:tensorflow:Compiled the loaded model, but the compiled metrics have yet to be built. `model.compile_metrics` will be empty until you train or evaluate the model.\n"
          ]
        }
      ]
    },
    {
      "cell_type": "code",
      "source": [
        "# TA KD\n",
        "train_and_evaluate(TA, compute_TA_loss, 0.5, 4)"
      ],
      "metadata": {
        "colab": {
          "base_uri": "https://localhost:8080/"
        },
        "id": "WgrnBgbkb6-V",
        "outputId": "83e53d24-6e52-4bb8-969a-72a3967d423c"
      },
      "execution_count": 48,
      "outputs": [
        {
          "output_type": "stream",
          "name": "stdout",
          "text": [
            "Epoch 1: Class_accuracy: 97.80%\n",
            "Epoch 2: Class_accuracy: 98.67%\n",
            "Epoch 3: Class_accuracy: 98.94%\n",
            "Epoch 4: Class_accuracy: 99.00%\n",
            "Epoch 5: Class_accuracy: 99.04%\n",
            "Epoch 6: Class_accuracy: 99.07%\n",
            "Epoch 7: Class_accuracy: 99.03%\n",
            "Epoch 8: Class_accuracy: 99.07%\n",
            "Epoch 9: Class_accuracy: 99.16%\n",
            "Epoch 10: Class_accuracy: 99.03%\n",
            "Epoch 11: Class_accuracy: 99.13%\n",
            "Epoch 12: Class_accuracy: 99.15%\n"
          ]
        }
      ]
    },
    {
      "cell_type": "code",
      "source": [
        "TA.save(\"TA_TAKD.h5\")\n",
        "TA.save_weights(\"TA_Weights_TAKD\")"
      ],
      "metadata": {
        "colab": {
          "base_uri": "https://localhost:8080/"
        },
        "id": "ARrAlqqsccPj",
        "outputId": "54494060-4a2b-4995-f50a-38c908111cf4"
      },
      "execution_count": 49,
      "outputs": [
        {
          "output_type": "stream",
          "name": "stdout",
          "text": [
            "WARNING:tensorflow:Compiled the loaded model, but the compiled metrics have yet to be built. `model.compile_metrics` will be empty until you train or evaluate the model.\n"
          ]
        },
        {
          "output_type": "stream",
          "name": "stderr",
          "text": [
            "WARNING:tensorflow:Compiled the loaded model, but the compiled metrics have yet to be built. `model.compile_metrics` will be empty until you train or evaluate the model.\n"
          ]
        }
      ]
    },
    {
      "cell_type": "code",
      "source": [
        "# Student KD\n",
        "train_and_evaluate(student_takd, compute_student_loss, 0.5, 4)"
      ],
      "metadata": {
        "colab": {
          "base_uri": "https://localhost:8080/"
        },
        "id": "ksAy-y7-asqV",
        "outputId": "d4c1cfc3-e050-4c43-b651-2884c3ffd389"
      },
      "execution_count": 50,
      "outputs": [
        {
          "output_type": "stream",
          "name": "stdout",
          "text": [
            "Epoch 1: Class_accuracy: 96.00%\n",
            "Epoch 2: Class_accuracy: 97.34%\n",
            "Epoch 3: Class_accuracy: 97.84%\n",
            "Epoch 4: Class_accuracy: 98.34%\n",
            "Epoch 5: Class_accuracy: 98.39%\n",
            "Epoch 6: Class_accuracy: 98.45%\n",
            "Epoch 7: Class_accuracy: 98.43%\n",
            "Epoch 8: Class_accuracy: 98.54%\n",
            "Epoch 9: Class_accuracy: 98.62%\n",
            "Epoch 10: Class_accuracy: 98.63%\n",
            "Epoch 11: Class_accuracy: 98.70%\n",
            "Epoch 12: Class_accuracy: 98.81%\n"
          ]
        }
      ]
    },
    {
      "cell_type": "code",
      "source": [
        "student_takd.save(\"student_TAKD.h5\")\n",
        "student_takd.save_weights(\"student_Weights_TAKD\")"
      ],
      "metadata": {
        "colab": {
          "base_uri": "https://localhost:8080/"
        },
        "id": "WV6nJwWVc35T",
        "outputId": "66b1f5e9-9cc3-472c-a3aa-e8c08c7dc2e9"
      },
      "execution_count": 51,
      "outputs": [
        {
          "output_type": "stream",
          "name": "stdout",
          "text": [
            "WARNING:tensorflow:Compiled the loaded model, but the compiled metrics have yet to be built. `model.compile_metrics` will be empty until you train or evaluate the model.\n"
          ]
        },
        {
          "output_type": "stream",
          "name": "stderr",
          "text": [
            "WARNING:tensorflow:Compiled the loaded model, but the compiled metrics have yet to be built. `model.compile_metrics` will be empty until you train or evaluate the model.\n"
          ]
        }
      ]
    },
    {
      "cell_type": "code",
      "source": [
        ""
      ],
      "metadata": {
        "id": "ksQO1P2Ifn_Z"
      },
      "execution_count": null,
      "outputs": []
    },
    {
      "cell_type": "markdown",
      "source": [
        "## Comparing the teacher, teacher assistant, and student model (number of of parameters and FLOPs)"
      ],
      "metadata": {
        "id": "mSz6QwASuyqx"
      }
    },
    {
      "cell_type": "code",
      "source": [
        "flops = get_flops(teacher_takd, batch_size=1)\n",
        "print(\"teacher_takd Model\")\n",
        "print(f\"FLOPS: {flops / 10 ** 9:.03} G\")\n",
        "flops = get_flops(TA, batch_size=1)\n",
        "print(\"TA_takd Model\")\n",
        "print(f\"FLOPS: {flops / 10 ** 9:.03} G\")\n",
        "flops = get_flops(student_takd, batch_size=1)\n",
        "print(\"student_takd Model\")\n",
        "print(f\"FLOPS: {flops / 10 ** 9:.03} G\")"
      ],
      "metadata": {
        "colab": {
          "base_uri": "https://localhost:8080/"
        },
        "id": "BG5RNXYUfoCQ",
        "outputId": "0e4b7b8c-9260-4122-836c-06a23b7f4baa"
      },
      "execution_count": 54,
      "outputs": [
        {
          "output_type": "stream",
          "name": "stdout",
          "text": [
            "teacher_takd Model\n",
            "FLOPS: 0.022 G\n",
            "TA_takd Model\n",
            "FLOPS: 0.0102 G\n",
            "student_takd Model\n",
            "FLOPS: 0.00248 G\n"
          ]
        }
      ]
    },
    {
      "cell_type": "markdown",
      "source": [
        "### RISE explanation maps of all models"
      ],
      "metadata": {
        "id": "do2svEgnttL4"
      }
    },
    {
      "cell_type": "code",
      "source": [
        "# Get Explanation Maps from three models\n",
        "Teacher_TAKD_RISE = RISE(images_batch[number].numpy(), teacher_takd, class_index=sample_label, N_MASKS=8000)\n",
        "Teacher_TAKD_RISE -= Teacher_TAKD_RISE.min()\n",
        "Teacher_TAKD_RISE /= Teacher_TAKD_RISE.max()+10e-30\n",
        "\n",
        "TA_TAKD_RISE = RISE(images_batch[number].numpy(), TA, class_index=sample_label, N_MASKS=8000)\n",
        "TA_TAKD_RISE -= TA_TAKD_RISE.min()\n",
        "TA_TAKD_RISE /= TA_TAKD_RISE.max()+10e-30\n",
        "\n",
        "Student_TAKD_RISE = RISE(images_batch[number].numpy(), student_takd, class_index=sample_label, N_MASKS=8000)\n",
        "Student_TAKD_RISE -= Student_TAKD_RISE.min()\n",
        "Student_TAKD_RISE /= Student_TAKD_RISE.max()+10e-30"
      ],
      "metadata": {
        "id": "bVmjReg2uir_"
      },
      "execution_count": 61,
      "outputs": []
    },
    {
      "cell_type": "code",
      "source": [
        "# Teacher TAKD Model\n",
        "plt.figure(figsize=(8,8))\n",
        "plt.subplot(3,2,1)\n",
        "plt.title(\"Input Image-label: {}\".format(sample_label))\n",
        "plt.imshow(sample_image)\n",
        "plt.axis(\"off\")\n",
        "\n",
        "plt.subplot(3,2,2)\n",
        "plt.title('Teacher TAKD Explanation Map')\n",
        "plt.imshow(Teacher_TAKD_RISE, cmap='jet', alpha=0.5)\n",
        "plt.axis('off')\n",
        "\n",
        "# Student w/ KD Model\n",
        "plt.subplot(3,2,3)\n",
        "plt.title(\"Input Image-label: {}\".format(sample_label))\n",
        "plt.imshow(sample_image)\n",
        "plt.axis('off')\n",
        "\n",
        "plt.subplot(3,2,4)\n",
        "plt.title('TA TAKD Explanation Map')\n",
        "plt.imshow(TA_TAKD_RISE, cmap='jet', alpha=0.5)\n",
        "plt.axis('off')\n",
        "\n",
        "# Student w/o KD Model\n",
        "plt.subplot(3,2,5)\n",
        "plt.title(\"Input Image-label: {}\".format(sample_label))\n",
        "plt.imshow(sample_image)\n",
        "plt.axis('off')\n",
        "\n",
        "plt.subplot(3,2,6)\n",
        "plt.title('Student TAKD Explanation Map')\n",
        "plt.imshow(Student_TAKD_RISE, cmap='jet', alpha=0.5)\n",
        "plt.axis('off')\n",
        "\n",
        "plt.show()"
      ],
      "metadata": {
        "id": "oGHZGgeFui60",
        "colab": {
          "base_uri": "https://localhost:8080/",
          "height": 482
        },
        "outputId": "4defb8c0-d95a-4d21-c3d1-484bd4f122ac"
      },
      "execution_count": 62,
      "outputs": [
        {
          "output_type": "display_data",
          "data": {
            "text/plain": [
              "<Figure size 576x576 with 6 Axes>"
            ],
            "image/png": "[encoded data removed]"
          },
          "metadata": {
            "needs_background": "light"
          }
        }
      ]
    },
    {
      "cell_type": "code",
      "source": [
        "#Merge input and explanation maps\n",
        "plt.figure(figsize=(12,12))\n",
        "plt.subplot(1,3,1)\n",
        "plt.title('Teacher')\n",
        "plt.imshow(sample_image)\n",
        "plt.imshow(Teacher_RISE, cmap='jet', alpha=0.5)\n",
        "plt.axis('off')\n",
        "\n",
        "plt.subplot(1,3,2)\n",
        "plt.title('TA')\n",
        "plt.imshow(sample_image)\n",
        "plt.imshow(Student_w_kd_RISE, cmap='jet', alpha=0.5)\n",
        "plt.axis('off')\n",
        "\n",
        "plt.subplot(1,3,3)\n",
        "plt.title('Student')\n",
        "plt.imshow(sample_image)\n",
        "plt.imshow(Student_wo_kd_RISE, cmap='jet', alpha=0.5)\n",
        "plt.axis('off')\n",
        "\n",
        "plt.show()"
      ],
      "metadata": {
        "id": "PrfD56c0ujHI",
        "colab": {
          "base_uri": "https://localhost:8080/",
          "height": 244
        },
        "outputId": "7180dd98-b79f-48f1-c300-ff5c131a12a5"
      },
      "execution_count": 63,
      "outputs": [
        {
          "output_type": "display_data",
          "data": {
            "text/plain": [
              "<Figure size 864x864 with 3 Axes>"
            ],
            "image/png": "[encoded data removed]"
          },
          "metadata": {
            "needs_background": "light"
          }
        }
      ]
    }
  ]
}